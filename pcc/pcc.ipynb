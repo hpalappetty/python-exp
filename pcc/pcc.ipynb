{
 "cells": [
  {
   "cell_type": "markdown",
   "id": "e90d9e78",
   "metadata": {},
   "source": [
    "Lists, are ordered collections"
   ]
  },
  {
   "cell_type": "code",
   "execution_count": 3,
   "id": "780069e1",
   "metadata": {},
   "outputs": [
    {
     "name": "stdout",
     "output_type": "stream",
     "text": [
      "['trek', 'canondale', 'redline', 'specialized']\n"
     ]
    }
   ],
   "source": [
    "bicycles = ['trek', 'canondale', 'redline', 'specialized']\n",
    "print(bicycles)"
   ]
  },
  {
   "cell_type": "code",
   "execution_count": 4,
   "id": "8cbfafff",
   "metadata": {},
   "outputs": [
    {
     "name": "stdout",
     "output_type": "stream",
     "text": [
      "trek\n"
     ]
    }
   ],
   "source": [
    "print(bicycles[0])"
   ]
  },
  {
   "cell_type": "code",
   "execution_count": 7,
   "id": "3b9a23a0",
   "metadata": {},
   "outputs": [
    {
     "name": "stdout",
     "output_type": "stream",
     "text": [
      "Trek\n"
     ]
    }
   ],
   "source": [
    "print(bicycles[0].title())"
   ]
  },
  {
   "cell_type": "code",
   "execution_count": 8,
   "id": "a9ae343d",
   "metadata": {},
   "outputs": [
    {
     "name": "stdout",
     "output_type": "stream",
     "text": [
      "specialized\n"
     ]
    }
   ],
   "source": [
    "#accessing last element in the list\n",
    "print(bicycles[-1])"
   ]
  },
  {
   "cell_type": "code",
   "execution_count": 9,
   "id": "31f320c8",
   "metadata": {},
   "outputs": [
    {
     "name": "stdout",
     "output_type": "stream",
     "text": [
      "My first bicycle was a Trek\n"
     ]
    }
   ],
   "source": [
    "message = f\"My first bicycle was a {bicycles[0].title()}\"\n",
    "print(message)"
   ]
  },
  {
   "cell_type": "code",
   "execution_count": 1,
   "id": "5305d63c",
   "metadata": {},
   "outputs": [
    {
     "name": "stdout",
     "output_type": "stream",
     "text": [
      "['honda', 'yamaha', 'suzuki', 'tvs', 'enfield']\n"
     ]
    }
   ],
   "source": [
    "motorcycles = ['honda', 'yamaha', 'suzuki', 'tvs', 'enfield']\n",
    "print(motorcycles)"
   ]
  },
  {
   "cell_type": "code",
   "execution_count": 3,
   "id": "cdc4704f",
   "metadata": {},
   "outputs": [
    {
     "name": "stdout",
     "output_type": "stream",
     "text": [
      "['ducati', 'yamaha', 'suzuki', 'tvs', 'enfield']\n"
     ]
    }
   ],
   "source": [
    "motorcycles[0]='ducati'\n",
    "print(motorcycles)"
   ]
  },
  {
   "cell_type": "code",
   "execution_count": 5,
   "id": "caac1ee7",
   "metadata": {},
   "outputs": [
    {
     "name": "stdout",
     "output_type": "stream",
     "text": [
      "['ducati', 'yamaha', 'suzuki', 'tvs', 'enfield', 'jawa', 'jawa']\n"
     ]
    }
   ],
   "source": [
    "motorcycles.append('jawa')\n",
    "print(motorcycles)"
   ]
  },
  {
   "cell_type": "code",
   "execution_count": 6,
   "id": "432859de",
   "metadata": {},
   "outputs": [
    {
     "name": "stdout",
     "output_type": "stream",
     "text": [
      "['giant', 'peloton', 'trek']\n"
     ]
    }
   ],
   "source": [
    "roadcycles=[]\n",
    "roadcycles.append('giant')\n",
    "roadcycles.append('peloton')\n",
    "roadcycles.append('trek')\n",
    "print(roadcycles)"
   ]
  },
  {
   "cell_type": "code",
   "execution_count": 7,
   "id": "02a9bb19",
   "metadata": {},
   "outputs": [
    {
     "data": {
      "text/plain": [
       "7"
      ]
     },
     "execution_count": 7,
     "metadata": {},
     "output_type": "execute_result"
    }
   ],
   "source": [
    "len(motorcycles)"
   ]
  },
  {
   "cell_type": "code",
   "execution_count": 8,
   "id": "906d48a6",
   "metadata": {},
   "outputs": [
    {
     "name": "stdout",
     "output_type": "stream",
     "text": [
      "['ducati', 'yamaha', 'suzuki', 'tvs', 'enfield', 'jawa', 'ktm', 'jawa']\n"
     ]
    }
   ],
   "source": [
    "motorcycles.insert(6,'ktm')\n",
    "print(motorcycles)"
   ]
  },
  {
   "cell_type": "code",
   "execution_count": 10,
   "id": "a0f58acf",
   "metadata": {},
   "outputs": [
    {
     "name": "stdout",
     "output_type": "stream",
     "text": [
      "['ducati', 'yamaha', 'suzuki', 'tvs', 'enfield', 'jawa', 'ktm', 'honda', 'honda', 'jawa']\n"
     ]
    }
   ],
   "source": [
    "motorcycles.insert(7,'honda')\n",
    "print(motorcycles)"
   ]
  },
  {
   "cell_type": "code",
   "execution_count": 11,
   "id": "1e51bd83",
   "metadata": {},
   "outputs": [
    {
     "name": "stdout",
     "output_type": "stream",
     "text": [
      "['ducati', 'yamaha', 'suzuki', 'tvs', 'enfield', 'jawa', 'ktm', 'honda']\n"
     ]
    }
   ],
   "source": [
    "del motorcycles[7]\n",
    "del motorcycles[8]\n",
    "print(motorcycles)"
   ]
  },
  {
   "cell_type": "code",
   "execution_count": 12,
   "id": "f4114b24",
   "metadata": {},
   "outputs": [
    {
     "name": "stdout",
     "output_type": "stream",
     "text": [
      "['ducati', 'yamaha', 'suzuki', 'tvs', 'enfield', 'jawa', 'ktm']\n"
     ]
    }
   ],
   "source": [
    "popped_item = motorcycles.pop()\n",
    "print(motorcycles)"
   ]
  },
  {
   "cell_type": "code",
   "execution_count": 13,
   "id": "fec8a132",
   "metadata": {},
   "outputs": [
    {
     "name": "stdout",
     "output_type": "stream",
     "text": [
      "honda\n"
     ]
    }
   ],
   "source": [
    "print(popped_item)"
   ]
  },
  {
   "cell_type": "code",
   "execution_count": 14,
   "id": "507e98e3",
   "metadata": {},
   "outputs": [
    {
     "name": "stdout",
     "output_type": "stream",
     "text": [
      "['yamaha', 'suzuki', 'tvs', 'enfield', 'jawa', 'ktm']\n",
      "ducati\n"
     ]
    }
   ],
   "source": [
    "first_item = motorcycles.pop(0)\n",
    "print(motorcycles)\n",
    "print(first_item)"
   ]
  },
  {
   "cell_type": "code",
   "execution_count": 15,
   "id": "ea0df57e",
   "metadata": {},
   "outputs": [
    {
     "name": "stdout",
     "output_type": "stream",
     "text": [
      "The first motorcycle I owned was a Ducati.\n"
     ]
    }
   ],
   "source": [
    "print(f\"The first motorcycle I owned was a {first_item.title()}.\")"
   ]
  },
  {
   "cell_type": "code",
   "execution_count": 16,
   "id": "77588948",
   "metadata": {},
   "outputs": [
    {
     "name": "stdout",
     "output_type": "stream",
     "text": [
      "['yamaha', 'suzuki', 'tvs', 'enfield', 'jawa']\n",
      "None\n"
     ]
    }
   ],
   "source": [
    "last_item = motorcycles.remove('ktm')\n",
    "print(motorcycles)\n",
    "print(last_item)"
   ]
  },
  {
   "cell_type": "code",
   "execution_count": 17,
   "id": "d4e9e535",
   "metadata": {},
   "outputs": [
    {
     "name": "stdout",
     "output_type": "stream",
     "text": [
      "['suzuki', 'tvs', 'enfield', 'jawa']\n",
      "\n",
      "A Yamaha is too expensive for me.\n"
     ]
    }
   ],
   "source": [
    "too_expensive = 'yamaha'\n",
    "motorcycles.remove(too_expensive)\n",
    "print(motorcycles)\n",
    "print(f\"\\nA {too_expensive.title()} is too expensive for me.\")"
   ]
  },
  {
   "cell_type": "markdown",
   "id": "418afd7f",
   "metadata": {},
   "source": [
    "The remove() method deletes only the first occurrence of the value you specify. If there’s\n",
    "a possibility the value appears more than once in the list, you’ll need to use a loop\n",
    "to make sure all occurrences of the value are removed."
   ]
  },
  {
   "cell_type": "code",
   "execution_count": 19,
   "id": "97856190",
   "metadata": {},
   "outputs": [
    {
     "ename": "SyntaxError",
     "evalue": "cannot delete function call (821727568.py, line 1)",
     "output_type": "error",
     "traceback": [
      "\u001b[0;36m  Cell \u001b[0;32mIn[19], line 1\u001b[0;36m\u001b[0m\n\u001b[0;31m    del motorcycles(len(motorcycles))\u001b[0m\n\u001b[0m        ^\u001b[0m\n\u001b[0;31mSyntaxError\u001b[0m\u001b[0;31m:\u001b[0m cannot delete function call\n"
     ]
    }
   ],
   "source": [
    "del motorcycles(4)\n",
    "print(motorcycles)"
   ]
  },
  {
   "cell_type": "code",
   "execution_count": null,
   "id": "457991cb",
   "metadata": {},
   "outputs": [],
   "source": []
  }
 ],
 "metadata": {
  "kernelspec": {
   "display_name": "Python 3 (ipykernel)",
   "language": "python",
   "name": "python3"
  },
  "language_info": {
   "codemirror_mode": {
    "name": "ipython",
    "version": 3
   },
   "file_extension": ".py",
   "mimetype": "text/x-python",
   "name": "python",
   "nbconvert_exporter": "python",
   "pygments_lexer": "ipython3",
   "version": "3.11.7"
  },
  "toc": {
   "base_numbering": 1,
   "nav_menu": {},
   "number_sections": true,
   "sideBar": true,
   "skip_h1_title": false,
   "title_cell": "Table of Contents",
   "title_sidebar": "Contents",
   "toc_cell": false,
   "toc_position": {},
   "toc_section_display": true,
   "toc_window_display": false
  }
 },
 "nbformat": 4,
 "nbformat_minor": 5
}
