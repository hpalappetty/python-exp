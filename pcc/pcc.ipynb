{
 "cells": [
  {
   "cell_type": "markdown",
   "id": "e90d9e78",
   "metadata": {},
   "source": [
    "Lists, are ordered collections"
   ]
  },
  {
   "cell_type": "code",
   "execution_count": 3,
   "id": "780069e1",
   "metadata": {},
   "outputs": [
    {
     "name": "stdout",
     "output_type": "stream",
     "text": [
      "['trek', 'canondale', 'redline', 'specialized']\n"
     ]
    }
   ],
   "source": [
    "bicycles = ['trek', 'canondale', 'redline', 'specialized']\n",
    "print(bicycles)"
   ]
  },
  {
   "cell_type": "code",
   "execution_count": 4,
   "id": "8cbfafff",
   "metadata": {},
   "outputs": [
    {
     "name": "stdout",
     "output_type": "stream",
     "text": [
      "trek\n"
     ]
    }
   ],
   "source": [
    "print(bicycles[0])"
   ]
  },
  {
   "cell_type": "code",
   "execution_count": 7,
   "id": "3b9a23a0",
   "metadata": {},
   "outputs": [
    {
     "name": "stdout",
     "output_type": "stream",
     "text": [
      "Trek\n"
     ]
    }
   ],
   "source": [
    "print(bicycles[0].title())"
   ]
  },
  {
   "cell_type": "code",
   "execution_count": 8,
   "id": "a9ae343d",
   "metadata": {},
   "outputs": [
    {
     "name": "stdout",
     "output_type": "stream",
     "text": [
      "specialized\n"
     ]
    }
   ],
   "source": [
    "#accessing last element in the list\n",
    "print(bicycles[-1])"
   ]
  },
  {
   "cell_type": "code",
   "execution_count": 9,
   "id": "31f320c8",
   "metadata": {},
   "outputs": [
    {
     "name": "stdout",
     "output_type": "stream",
     "text": [
      "My first bicycle was a Trek\n"
     ]
    }
   ],
   "source": [
    "message = f\"My first bicycle was a {bicycles[0].title()}\"\n",
    "print(message)"
   ]
  },
  {
   "cell_type": "code",
   "execution_count": 1,
   "id": "5305d63c",
   "metadata": {},
   "outputs": [
    {
     "name": "stdout",
     "output_type": "stream",
     "text": [
      "['honda', 'yamaha', 'suzuki', 'tvs', 'enfield']\n"
     ]
    }
   ],
   "source": [
    "motorcycles = ['honda', 'yamaha', 'suzuki', 'tvs', 'enfield']\n",
    "print(motorcycles)"
   ]
  },
  {
   "cell_type": "code",
   "execution_count": 3,
   "id": "3c1ed076",
   "metadata": {},
   "outputs": [
    {
     "name": "stdout",
     "output_type": "stream",
     "text": [
      "['ducati', 'yamaha', 'suzuki', 'tvs', 'enfield']\n"
     ]
    }
   ],
   "source": [
    "motorcycles[0]='ducati'\n",
    "print(motorcycles)"
   ]
  },
  {
   "cell_type": "code",
   "execution_count": 5,
   "id": "aab528d5",
   "metadata": {},
   "outputs": [
    {
     "name": "stdout",
     "output_type": "stream",
     "text": [
      "['ducati', 'yamaha', 'suzuki', 'tvs', 'enfield', 'jawa', 'jawa']\n"
     ]
    }
   ],
   "source": [
    "motorcycles.append('jawa')\n",
    "print(motorcycles)"
   ]
  },
  {
   "cell_type": "code",
   "execution_count": 6,
   "id": "e2973f0a",
   "metadata": {},
   "outputs": [
    {
     "name": "stdout",
     "output_type": "stream",
     "text": [
      "['giant', 'peloton', 'trek']\n"
     ]
    }
   ],
   "source": [
    "roadcycles=[]\n",
    "roadcycles.append('giant')\n",
    "roadcycles.append('peloton')\n",
    "roadcycles.append('trek')\n",
    "print(roadcycles)"
   ]
  },
  {
   "cell_type": "code",
   "execution_count": 7,
   "id": "82bfec19",
   "metadata": {},
   "outputs": [
    {
     "data": {
      "text/plain": [
       "7"
      ]
     },
     "execution_count": 7,
     "metadata": {},
     "output_type": "execute_result"
    }
   ],
   "source": [
    "len(motorcycles)"
   ]
  },
  {
   "cell_type": "code",
   "execution_count": 8,
   "id": "b917ce5e",
   "metadata": {},
   "outputs": [
    {
     "name": "stdout",
     "output_type": "stream",
     "text": [
      "['ducati', 'yamaha', 'suzuki', 'tvs', 'enfield', 'jawa', 'ktm', 'jawa']\n"
     ]
    }
   ],
   "source": [
    "motorcycles.insert(6,'ktm')\n",
    "print(motorcycles)"
   ]
  },
  {
   "cell_type": "code",
   "execution_count": 10,
   "id": "9a259e3a",
   "metadata": {},
   "outputs": [
    {
     "name": "stdout",
     "output_type": "stream",
     "text": [
      "['ducati', 'yamaha', 'suzuki', 'tvs', 'enfield', 'jawa', 'ktm', 'honda', 'honda', 'jawa']\n"
     ]
    }
   ],
   "source": [
    "motorcycles.insert(7,'honda')\n",
    "print(motorcycles)"
   ]
  },
  {
   "cell_type": "code",
   "execution_count": 11,
   "id": "c3fa8132",
   "metadata": {},
   "outputs": [
    {
     "name": "stdout",
     "output_type": "stream",
     "text": [
      "['ducati', 'yamaha', 'suzuki', 'tvs', 'enfield', 'jawa', 'ktm', 'honda']\n"
     ]
    }
   ],
   "source": [
    "del motorcycles[7]\n",
    "del motorcycles[8]\n",
    "print(motorcycles)"
   ]
  },
  {
   "cell_type": "code",
   "execution_count": 12,
   "id": "ab663531",
   "metadata": {},
   "outputs": [
    {
     "name": "stdout",
     "output_type": "stream",
     "text": [
      "['ducati', 'yamaha', 'suzuki', 'tvs', 'enfield', 'jawa', 'ktm']\n"
     ]
    }
   ],
   "source": [
    "popped_item = motorcycles.pop()\n",
    "print(motorcycles)"
   ]
  },
  {
   "cell_type": "code",
   "execution_count": 13,
   "id": "a0c38180",
   "metadata": {},
   "outputs": [
    {
     "name": "stdout",
     "output_type": "stream",
     "text": [
      "honda\n"
     ]
    }
   ],
   "source": [
    "print(popped_item)"
   ]
  },
  {
   "cell_type": "code",
   "execution_count": 14,
   "id": "52c5b838",
   "metadata": {},
   "outputs": [
    {
     "name": "stdout",
     "output_type": "stream",
     "text": [
      "['yamaha', 'suzuki', 'tvs', 'enfield', 'jawa', 'ktm']\n",
      "ducati\n"
     ]
    }
   ],
   "source": [
    "first_item = motorcycles.pop(0)\n",
    "print(motorcycles)\n",
    "print(first_item)"
   ]
  },
  {
   "cell_type": "code",
   "execution_count": 15,
   "id": "0459b7a9",
   "metadata": {},
   "outputs": [
    {
     "name": "stdout",
     "output_type": "stream",
     "text": [
      "The first motorcycle I owned was a Ducati.\n"
     ]
    }
   ],
   "source": [
    "print(f\"The first motorcycle I owned was a {first_item.title()}.\")"
   ]
  },
  {
   "cell_type": "code",
   "execution_count": 16,
   "id": "7a033b8a",
   "metadata": {},
   "outputs": [
    {
     "name": "stdout",
     "output_type": "stream",
     "text": [
      "['yamaha', 'suzuki', 'tvs', 'enfield', 'jawa']\n",
      "None\n"
     ]
    }
   ],
   "source": [
    "last_item = motorcycles.remove('ktm')\n",
    "print(motorcycles)\n",
    "print(last_item)"
   ]
  },
  {
   "cell_type": "code",
   "execution_count": 17,
   "id": "d6596bd2",
   "metadata": {},
   "outputs": [
    {
     "name": "stdout",
     "output_type": "stream",
     "text": [
      "['suzuki', 'tvs', 'enfield', 'jawa']\n",
      "\n",
      "A Yamaha is too expensive for me.\n"
     ]
    }
   ],
   "source": [
    "too_expensive = 'yamaha'\n",
    "motorcycles.remove(too_expensive)\n",
    "print(motorcycles)\n",
    "print(f\"\\nA {too_expensive.title()} is too expensive for me.\")"
   ]
  },
  {
   "cell_type": "markdown",
   "id": "56579bee",
   "metadata": {},
   "source": [
    "The remove() method deletes only the first occurrence of the value you specify. If there’s\n",
    "a possibility the value appears more than once in the list, you’ll need to use a loop\n",
    "to make sure all occurrences of the value are removed."
   ]
  },
  {
   "cell_type": "code",
   "execution_count": 22,
   "id": "7fcaf410",
   "metadata": {},
   "outputs": [
    {
     "name": "stdout",
     "output_type": "stream",
     "text": [
      "['suzuki', 'tvs', 'enfield']\n"
     ]
    }
   ],
   "source": [
    "del motorcycles[len(motorcycles)-1]\n",
    "print(motorcycles)"
   ]
  },
  {
   "cell_type": "code",
   "execution_count": 23,
   "id": "d03dc611",
   "metadata": {},
   "outputs": [
    {
     "name": "stdout",
     "output_type": "stream",
     "text": [
      "['bmw', 'audi', 'toyota', 'tata', 'mahindra', 'maruti']\n",
      "\n",
      "['audi', 'bmw', 'mahindra', 'maruti', 'tata', 'toyota']\n"
     ]
    }
   ],
   "source": [
    "cars = ['bmw','audi','toyota','tata','mahindra','maruti']\n",
    "print(cars)\n",
    "cars.sort()\n",
    "print(f\"\\n{cars}\")"
   ]
  },
  {
   "cell_type": "code",
   "execution_count": 24,
   "id": "2fb5e119",
   "metadata": {},
   "outputs": [
    {
     "name": "stdout",
     "output_type": "stream",
     "text": [
      "['toyota', 'tata', 'maruti', 'mahindra', 'bmw', 'audi']\n"
     ]
    }
   ],
   "source": [
    "cars.sort(reverse=True)\n",
    "print(cars)"
   ]
  },
  {
   "cell_type": "code",
   "execution_count": 27,
   "id": "559c81cb",
   "metadata": {},
   "outputs": [
    {
     "name": "stdout",
     "output_type": "stream",
     "text": [
      "Original List of cars:\n",
      "['toyota', 'tata', 'maruti', 'mahindra', 'bmw', 'audi']\n",
      "\n",
      " The sorted list of cars:\n",
      "['audi', 'bmw', 'mahindra', 'maruti', 'tata', 'toyota']\n",
      "\n",
      "Original list again:\n",
      "['toyota', 'tata', 'maruti', 'mahindra', 'bmw', 'audi']\n"
     ]
    }
   ],
   "source": [
    "print(\"Original List of cars:\")\n",
    "print(cars)\n",
    "\n",
    "print(\"\\n The sorted list of cars:\")\n",
    "print(sorted(cars))\n",
    "\n",
    "print(\"\\nOriginal list again:\")\n",
    "print(cars)"
   ]
  },
  {
   "cell_type": "code",
   "execution_count": 28,
   "id": "e624e35f",
   "metadata": {},
   "outputs": [
    {
     "name": "stdout",
     "output_type": "stream",
     "text": [
      "['audi', 'bmw', 'mahindra', 'maruti', 'tata', 'toyota']\n"
     ]
    }
   ],
   "source": [
    "cars.reverse()\n",
    "print(cars)"
   ]
  },
  {
   "cell_type": "markdown",
   "id": "732fb497",
   "metadata": {},
   "source": [
    "sort() -> sorts the list in ascending order and changes it permanently. </br>\n",
    "sort(reverse=True)-> sorts the list in reverse order and changes it permanently. </br>\n",
    "sorted([List]) -> sorts the list, and does not change it permanently. </br>\n",
    "sorted([List],reverse=True) -> if you want to display a list in reverse-alphabetical order.</br>\n",
    "[List].reverse() -> If you would like to reverse the original order of the list. reverse() does not sort backwards, it simply reverses the order of the list. </br>"
   ]
  },
  {
   "cell_type": "code",
   "execution_count": 29,
   "id": "68f1ac5e",
   "metadata": {},
   "outputs": [
    {
     "data": {
      "text/plain": [
       "6"
      ]
     },
     "execution_count": 29,
     "metadata": {},
     "output_type": "execute_result"
    }
   ],
   "source": [
    "len(cars)"
   ]
  },
  {
   "cell_type": "code",
   "execution_count": 30,
   "id": "ecfd5290",
   "metadata": {},
   "outputs": [
    {
     "name": "stdout",
     "output_type": "stream",
     "text": [
      "toyota\n"
     ]
    }
   ],
   "source": [
    "#To get the last car\n",
    "print(cars[-1])"
   ]
  },
  {
   "cell_type": "code",
   "execution_count": 31,
   "id": "bd07fcbe",
   "metadata": {},
   "outputs": [
    {
     "ename": "IndexError",
     "evalue": "list index out of range",
     "output_type": "error",
     "traceback": [
      "\u001b[0;31m---------------------------------------------------------------------------\u001b[0m",
      "\u001b[0;31mIndexError\u001b[0m                                Traceback (most recent call last)",
      "Cell \u001b[0;32mIn[31], line 3\u001b[0m\n\u001b[1;32m      1\u001b[0m \u001b[38;5;66;03m#error if you try to get the last element from an empty list\u001b[39;00m\n\u001b[1;32m      2\u001b[0m dummy\u001b[38;5;241m=\u001b[39m[]\n\u001b[0;32m----> 3\u001b[0m \u001b[38;5;28mprint\u001b[39m(dummy[\u001b[38;5;241m-\u001b[39m\u001b[38;5;241m1\u001b[39m])\n",
      "\u001b[0;31mIndexError\u001b[0m: list index out of range"
     ]
    }
   ],
   "source": [
    "#error if you try to get the last element from an empty list\n",
    "dummy=[]\n",
    "print(dummy[-1])"
   ]
  },
  {
   "cell_type": "code",
   "execution_count": 1,
   "id": "a41bff30",
   "metadata": {},
   "outputs": [
    {
     "name": "stdout",
     "output_type": "stream",
     "text": [
      "alice\n",
      "david\n",
      "carolina\n"
     ]
    }
   ],
   "source": [
    "magicians = ['alice', 'david', 'carolina']\n",
    "for magician in magicians:\n",
    "    print(magician)"
   ]
  },
  {
   "cell_type": "code",
   "execution_count": 2,
   "id": "1915b568",
   "metadata": {},
   "outputs": [
    {
     "name": "stdout",
     "output_type": "stream",
     "text": [
      "Alice, that was a great trick!\n",
      "David, that was a great trick!\n",
      "Carolina, that was a great trick!\n"
     ]
    }
   ],
   "source": [
    "for magician in magicians:\n",
    "    print(f\"{magician.title()}, that was a great trick!\")"
   ]
  },
  {
   "cell_type": "code",
   "execution_count": 3,
   "id": "a8628268",
   "metadata": {},
   "outputs": [
    {
     "name": "stdout",
     "output_type": "stream",
     "text": [
      "1\n",
      "2\n",
      "3\n",
      "4\n"
     ]
    }
   ],
   "source": [
    "for value in range(1,5):\n",
    "    print(value)"
   ]
  },
  {
   "cell_type": "code",
   "execution_count": 4,
   "id": "4615732d",
   "metadata": {},
   "outputs": [
    {
     "name": "stdout",
     "output_type": "stream",
     "text": [
      "0\n",
      "1\n",
      "2\n",
      "3\n",
      "4\n"
     ]
    }
   ],
   "source": [
    "for value in range(5):\n",
    "    print(value)"
   ]
  },
  {
   "cell_type": "code",
   "execution_count": 5,
   "id": "f9959385",
   "metadata": {},
   "outputs": [
    {
     "name": "stdout",
     "output_type": "stream",
     "text": [
      "[1, 2, 3, 4, 5]\n"
     ]
    }
   ],
   "source": [
    "numbers = list(range(1,6))\n",
    "print(numbers)"
   ]
  },
  {
   "cell_type": "code",
   "execution_count": 7,
   "id": "61a1ff60",
   "metadata": {},
   "outputs": [
    {
     "name": "stdout",
     "output_type": "stream",
     "text": [
      "[2, 4, 6, 8, 10]\n"
     ]
    }
   ],
   "source": [
    "even_numbers = list(range(2,11,2))\n",
    "print(even_numbers)"
   ]
  },
  {
   "cell_type": "code",
   "execution_count": 8,
   "id": "b0fbe917",
   "metadata": {},
   "outputs": [
    {
     "name": "stdout",
     "output_type": "stream",
     "text": [
      "[1, 4, 9, 16, 25, 36, 49, 64, 81, 100]\n"
     ]
    }
   ],
   "source": [
    "squares = []\n",
    "for value in range(1,11):\n",
    "    square = value**2\n",
    "    squares.append(square)\n",
    "print(squares)"
   ]
  },
  {
   "cell_type": "code",
   "execution_count": 17,
   "id": "9526f1dd",
   "metadata": {},
   "outputs": [
    {
     "name": "stdout",
     "output_type": "stream",
     "text": [
      "0\n",
      "9\n",
      "45\n"
     ]
    }
   ],
   "source": [
    "digits = [1,2,3,4,5,6,7,8,9,0]\n",
    "print(min(digits))\n",
    "print(max(digits))\n",
    "print(sum(digits))"
   ]
  },
  {
   "cell_type": "code",
   "execution_count": 18,
   "id": "264f039e",
   "metadata": {},
   "outputs": [
    {
     "name": "stdout",
     "output_type": "stream",
     "text": [
      "[1, 4, 9, 16, 25, 36, 49, 64, 81, 100]\n"
     ]
    }
   ],
   "source": [
    "squares = [x**2 for x in range(1,11)] #this approach is called as list comprehension\n",
    "print(squares)"
   ]
  },
  {
   "cell_type": "code",
   "execution_count": 19,
   "id": "f78a4348",
   "metadata": {},
   "outputs": [
    {
     "name": "stdout",
     "output_type": "stream",
     "text": [
      "['ronaldo', 'messi', 'peter gade']\n"
     ]
    }
   ],
   "source": [
    "players = ['ronaldo','messi','peter gade','lcw','taufik','lin dan','hyun il']\n",
    "print(players[0:3])"
   ]
  },
  {
   "cell_type": "code",
   "execution_count": 20,
   "id": "c0830377",
   "metadata": {},
   "outputs": [
    {
     "name": "stdout",
     "output_type": "stream",
     "text": [
      "['messi', 'peter gade', 'lcw']\n"
     ]
    }
   ],
   "source": [
    "print(players[1:4])"
   ]
  },
  {
   "cell_type": "code",
   "execution_count": 21,
   "id": "5360cf0d",
   "metadata": {},
   "outputs": [
    {
     "name": "stdout",
     "output_type": "stream",
     "text": [
      "['ronaldo', 'messi', 'peter gade', 'lcw']\n"
     ]
    }
   ],
   "source": [
    "print(players[:4])"
   ]
  },
  {
   "cell_type": "code",
   "execution_count": 22,
   "id": "e46848a7",
   "metadata": {},
   "outputs": [
    {
     "name": "stdout",
     "output_type": "stream",
     "text": [
      "['peter gade', 'lcw', 'taufik', 'lin dan', 'hyun il']\n"
     ]
    }
   ],
   "source": [
    "print(players[2:])"
   ]
  },
  {
   "cell_type": "code",
   "execution_count": 23,
   "id": "991817d2",
   "metadata": {},
   "outputs": [
    {
     "name": "stdout",
     "output_type": "stream",
     "text": [
      "['taufik', 'lin dan', 'hyun il']\n"
     ]
    }
   ],
   "source": [
    "print(players[-3:])"
   ]
  },
  {
   "cell_type": "code",
   "execution_count": 24,
   "id": "fcf52ea6",
   "metadata": {},
   "outputs": [
    {
     "name": "stdout",
     "output_type": "stream",
     "text": [
      "['hyun il']\n"
     ]
    }
   ],
   "source": [
    "print(players[-1:])"
   ]
  },
  {
   "cell_type": "code",
   "execution_count": 26,
   "id": "dc60706d",
   "metadata": {},
   "outputs": [
    {
     "name": "stdout",
     "output_type": "stream",
     "text": [
      "Looping through a slice or first 4 elements in the list\n",
      "\n",
      "Ronaldo\n",
      "Messi\n",
      "Peter Gade\n",
      "Lcw\n"
     ]
    }
   ],
   "source": [
    "print(\"Looping through a slice or first 4 elements in the list\\n\")\n",
    "for player in players[:4]:\n",
    "    print(player.title())"
   ]
  },
  {
   "cell_type": "code",
   "execution_count": 27,
   "id": "34a10dc7",
   "metadata": {},
   "outputs": [],
   "source": [
    "friends_fav_players = players[:] #making a copy of the list\n",
    "friends_fav_players.append('Lee Zii Jia')"
   ]
  },
  {
   "cell_type": "code",
   "execution_count": 28,
   "id": "77a1b6a1",
   "metadata": {},
   "outputs": [
    {
     "name": "stdout",
     "output_type": "stream",
     "text": [
      "['ronaldo', 'messi', 'peter gade', 'lcw', 'taufik', 'lin dan', 'hyun il']\n",
      "['ronaldo', 'messi', 'peter gade', 'lcw', 'taufik', 'lin dan', 'hyun il', 'Lee Zii Jia']\n"
     ]
    }
   ],
   "source": [
    "print(players)\n",
    "print(friends_fav_players)"
   ]
  },
  {
   "cell_type": "markdown",
   "id": "e1a7b605",
   "metadata": {},
   "source": [
    "Tuples : Immutable lists, not like lists[], wont or cannot change"
   ]
  },
  {
   "cell_type": "code",
   "execution_count": 32,
   "id": "8ec462b0",
   "metadata": {},
   "outputs": [
    {
     "name": "stdout",
     "output_type": "stream",
     "text": [
      "(200, 50)\n",
      "200\n",
      "50\n"
     ]
    }
   ],
   "source": [
    "dimensions = (200,50)\n",
    "print(dimensions)\n",
    "print(dimensions[0])\n",
    "print(dimensions[1])"
   ]
  },
  {
   "cell_type": "code",
   "execution_count": 33,
   "id": "d0a38bcc",
   "metadata": {},
   "outputs": [
    {
     "ename": "TypeError",
     "evalue": "'tuple' object does not support item assignment",
     "output_type": "error",
     "traceback": [
      "\u001b[0;31m---------------------------------------------------------------------------\u001b[0m",
      "\u001b[0;31mTypeError\u001b[0m                                 Traceback (most recent call last)",
      "Cell \u001b[0;32mIn[33], line 1\u001b[0m\n\u001b[0;32m----> 1\u001b[0m dimensions[\u001b[38;5;241m0\u001b[39m]\u001b[38;5;241m=\u001b[39m\u001b[38;5;241m230\u001b[39m\n",
      "\u001b[0;31mTypeError\u001b[0m: 'tuple' object does not support item assignment"
     ]
    }
   ],
   "source": [
    "dimensions[0]=230 # This will thrown an error, we cannot assigne a new value to an item in a tuple."
   ]
  },
  {
   "cell_type": "code",
   "execution_count": 34,
   "id": "3a3b7fd7",
   "metadata": {},
   "outputs": [
    {
     "name": "stdout",
     "output_type": "stream",
     "text": [
      "200\n",
      "50\n"
     ]
    }
   ],
   "source": [
    "for dimension in dimensions:\n",
    "    print(dimension)"
   ]
  },
  {
   "cell_type": "code",
   "execution_count": 2,
   "id": "0e42beff",
   "metadata": {},
   "outputs": [
    {
     "name": "stdout",
     "output_type": "stream",
     "text": [
      "Mahindra\n",
      "Tata\n",
      "Maruti\n",
      "Force\n",
      "Audi\n",
      "TOYOTA\n",
      "Mercedes\n",
      "Bmw\n"
     ]
    }
   ],
   "source": [
    "cars =['mahindra','tata','maruti','force','audi','toyota','mercedes','bmw']\n",
    "for car in cars:\n",
    "    if car=='toyota':\n",
    "        print(car.upper())\n",
    "    else:\n",
    "        print(car.title())\n",
    "        "
   ]
  },
  {
   "cell_type": "code",
   "execution_count": 4,
   "id": "77523251",
   "metadata": {},
   "outputs": [
    {
     "data": {
      "text/plain": [
       "False"
      ]
     },
     "execution_count": 4,
     "metadata": {},
     "output_type": "execute_result"
    }
   ],
   "source": [
    "car='Audi'\n",
    "car=='audi' #Equality checks are case sensitive in Python"
   ]
  },
  {
   "cell_type": "code",
   "execution_count": 7,
   "id": "c49f1f5c",
   "metadata": {},
   "outputs": [
    {
     "name": "stdout",
     "output_type": "stream",
     "text": [
      "True\n",
      "True\n"
     ]
    }
   ],
   "source": [
    "print(car.lower()=='audi') #Two ways to handle case sensitivity scenario\n",
    "print(car=='audi'.title())"
   ]
  },
  {
   "cell_type": "code",
   "execution_count": 8,
   "id": "f59d12ef",
   "metadata": {},
   "outputs": [
    {
     "name": "stdout",
     "output_type": "stream",
     "text": [
      "Hold the achovies!\n"
     ]
    }
   ],
   "source": [
    "requested_topping='mushrooms'\n",
    "if requested_topping!='anchovies':\n",
    "    print(\"Hold the achovies!\")"
   ]
  },
  {
   "cell_type": "code",
   "execution_count": 9,
   "id": "a7f1221f",
   "metadata": {},
   "outputs": [
    {
     "data": {
      "text/plain": [
       "True"
      ]
     },
     "execution_count": 9,
     "metadata": {},
     "output_type": "execute_result"
    }
   ],
   "source": [
    "age=18\n",
    "age==18"
   ]
  },
  {
   "cell_type": "code",
   "execution_count": 10,
   "id": "4fadb62e",
   "metadata": {},
   "outputs": [
    {
     "name": "stdout",
     "output_type": "stream",
     "text": [
      "This is not the correct answer! Please try again!\n"
     ]
    }
   ],
   "source": [
    "answer=17\n",
    "if answer!=42:\n",
    "    print(\"This is not the correct answer! Please try again!\")"
   ]
  },
  {
   "cell_type": "code",
   "execution_count": 11,
   "id": "416cd3f6",
   "metadata": {},
   "outputs": [
    {
     "data": {
      "text/plain": [
       "True"
      ]
     },
     "execution_count": 11,
     "metadata": {},
     "output_type": "execute_result"
    }
   ],
   "source": [
    "age=19\n",
    "age<21"
   ]
  },
  {
   "cell_type": "code",
   "execution_count": 12,
   "id": "c9e51662",
   "metadata": {},
   "outputs": [
    {
     "data": {
      "text/plain": [
       "True"
      ]
     },
     "execution_count": 12,
     "metadata": {},
     "output_type": "execute_result"
    }
   ],
   "source": [
    "age<=21"
   ]
  },
  {
   "cell_type": "code",
   "execution_count": 13,
   "id": "83260d72",
   "metadata": {},
   "outputs": [
    {
     "data": {
      "text/plain": [
       "False"
      ]
     },
     "execution_count": 13,
     "metadata": {},
     "output_type": "execute_result"
    }
   ],
   "source": [
    "age>21"
   ]
  },
  {
   "cell_type": "code",
   "execution_count": 14,
   "id": "c3cc428f",
   "metadata": {},
   "outputs": [
    {
     "data": {
      "text/plain": [
       "False"
      ]
     },
     "execution_count": 14,
     "metadata": {},
     "output_type": "execute_result"
    }
   ],
   "source": [
    "age>=21"
   ]
  },
  {
   "cell_type": "code",
   "execution_count": 15,
   "id": "cab0ad73",
   "metadata": {},
   "outputs": [
    {
     "data": {
      "text/plain": [
       "False"
      ]
     },
     "execution_count": 15,
     "metadata": {},
     "output_type": "execute_result"
    }
   ],
   "source": [
    "age_0=22\n",
    "age_1=18\n",
    "age_0>=21 and age_1>=21"
   ]
  },
  {
   "cell_type": "code",
   "execution_count": 16,
   "id": "9cfab841",
   "metadata": {},
   "outputs": [
    {
     "data": {
      "text/plain": [
       "True"
      ]
     },
     "execution_count": 16,
     "metadata": {},
     "output_type": "execute_result"
    }
   ],
   "source": [
    "age_1=22\n",
    "age_0>=21 and age_1>=21"
   ]
  },
  {
   "cell_type": "code",
   "execution_count": 17,
   "id": "f618312f",
   "metadata": {},
   "outputs": [
    {
     "name": "stdout",
     "output_type": "stream",
     "text": [
      "True\n"
     ]
    }
   ],
   "source": [
    "age_1=18\n",
    "print(age_0>=21 or age_1>=21)"
   ]
  },
  {
   "cell_type": "code",
   "execution_count": 22,
   "id": "9eb31131",
   "metadata": {},
   "outputs": [
    {
     "name": "stdout",
     "output_type": "stream",
     "text": [
      "False\n"
     ]
    }
   ],
   "source": [
    "age_0=18\n",
    "age_1=18\n",
    "print(age_0>=21 or age_1>=21)"
   ]
  },
  {
   "cell_type": "code",
   "execution_count": 23,
   "id": "312dd10b",
   "metadata": {},
   "outputs": [
    {
     "data": {
      "text/plain": [
       "True"
      ]
     },
     "execution_count": 23,
     "metadata": {},
     "output_type": "execute_result"
    }
   ],
   "source": [
    "toppings =['mushrooms','jalapeno','onions','olives','pineapple']\n",
    "'olives' in toppings"
   ]
  },
  {
   "cell_type": "code",
   "execution_count": 28,
   "id": "59a7ece2",
   "metadata": {},
   "outputs": [
    {
     "name": "stdout",
     "output_type": "stream",
     "text": [
      "You are a vegetarian!\n"
     ]
    }
   ],
   "source": [
    "if 'pepperoni' not in toppings:\n",
    "    print('You are a vegetarian!')"
   ]
  },
  {
   "cell_type": "code",
   "execution_count": 30,
   "id": "374d3c96",
   "metadata": {},
   "outputs": [],
   "source": [
    "age=18\n",
    "if age>=18:\n",
    "    print(\"You're old enough to vote!\")"
   ]
  },
  {
   "cell_type": "code",
   "execution_count": 32,
   "id": "7b0939d1",
   "metadata": {},
   "outputs": [
    {
     "name": "stdout",
     "output_type": "stream",
     "text": [
      "Gotta wait few more years!\n"
     ]
    }
   ],
   "source": [
    "age=16\n",
    "if age>=18:\n",
    "    print(\"You're old enough to vote!\")\n",
    "else:\n",
    "    print(\"Gotta wait few more years!\")"
   ]
  },
  {
   "cell_type": "code",
   "execution_count": 33,
   "id": "df96ff18",
   "metadata": {},
   "outputs": [
    {
     "name": "stdout",
     "output_type": "stream",
     "text": [
      "Your admission cost is $25\n"
     ]
    }
   ],
   "source": [
    "age=12\n",
    "if age<4:\n",
    "    print(\"Your admission cost is $0\")\n",
    "elif age<18:\n",
    "    print(\"Your admission cost is $25\")\n",
    "else:\n",
    "    print(\"Your admission cost is $40\")"
   ]
  },
  {
   "cell_type": "code",
   "execution_count": 34,
   "id": "c25c61bd",
   "metadata": {},
   "outputs": [
    {
     "name": "stdout",
     "output_type": "stream",
     "text": [
      "Your admission cost is $25.\n"
     ]
    }
   ],
   "source": [
    "age=12\n",
    "if age<4:\n",
    "    price=0\n",
    "elif age<18:\n",
    "    price=25\n",
    "else:\n",
    "    price=40\n",
    "print(f\"Your admission cost is ${price}.\")"
   ]
  },
  {
   "cell_type": "markdown",
   "id": "8782a520",
   "metadata": {},
   "source": [
    "if you want only one block of code to run, use an if-elif-else\n",
    "chain. If more than one block of code needs to run, use a series of independent if statements."
   ]
  },
  {
   "cell_type": "code",
   "execution_count": 35,
   "id": "0d720828",
   "metadata": {},
   "outputs": [
    {
     "name": "stdout",
     "output_type": "stream",
     "text": [
      "Adding mushrooms.\n",
      "Sorry! We're out of Jalapeno right now!\n",
      "Adding onions.\n",
      "Adding olives.\n",
      "Adding pineapple.\n",
      "Your pizza is ready!\n"
     ]
    }
   ],
   "source": [
    "toppings =['mushrooms','jalapeno','onions','olives','pineapple']\n",
    "\n",
    "for topping in toppings:\n",
    "    if topping=='jalapeno':\n",
    "        print(\"Sorry! We're out of Jalapeno right now!\")\n",
    "    else:\n",
    "        print(f\"Adding {topping}.\")\n",
    "print(\"Your pizza is ready!\")"
   ]
  },
  {
   "cell_type": "code",
   "execution_count": 36,
   "id": "9fa92384",
   "metadata": {},
   "outputs": [
    {
     "name": "stdout",
     "output_type": "stream",
     "text": [
      "Are you sure you want a plain pizza?\n"
     ]
    }
   ],
   "source": [
    "toppings = []\n",
    "if toppings:\n",
    "    for topping in toppings:\n",
    "        print(f\"Adding {topping}.\")\n",
    "    print(\"Finished making pizza\")\n",
    "else:\n",
    "    print(\"Are you sure you want a plain pizza?\")"
   ]
  },
  {
   "cell_type": "code",
   "execution_count": 39,
   "id": "a8e74211",
   "metadata": {},
   "outputs": [
    {
     "name": "stdout",
     "output_type": "stream",
     "text": [
      "Adding mushrooms!\n",
      "Sorry,we do not have french fries.\n",
      "Sorry,we do not have extra cheese.\n",
      "Your pizza is ready!\n"
     ]
    }
   ],
   "source": [
    "available_toppings =['mushrooms','jalapeno','onions','olives','pineapple']\n",
    "req_toppings = ['mushrooms','french fries','extra cheese']\n",
    "\n",
    "for topping in req_toppings:\n",
    "    if topping in available_toppings:\n",
    "        print(f\"Adding {topping}!\")\n",
    "    else:\n",
    "        print(f\"Sorry,we do not have {topping}.\")\n",
    "print(\"Your pizza is ready!\")\n"
   ]
  },
  {
   "cell_type": "code",
   "execution_count": 40,
   "id": "7437d856",
   "metadata": {},
   "outputs": [
    {
     "name": "stdout",
     "output_type": "stream",
     "text": [
      "Adding mushrooms!\n",
      "Sorry,we do not have french fries.\n",
      "Sorry,we do not have extra cheese.\n",
      "Your pizza is ready!\n"
     ]
    }
   ],
   "source": [
    "available_toppings =('mushrooms','jalapeno','onions','olives','pineapple')\n",
    "req_toppings = ['mushrooms','french fries','extra cheese']\n",
    "\n",
    "for topping in req_toppings:\n",
    "    if topping in available_toppings:\n",
    "        print(f\"Adding {topping}!\")\n",
    "    else:\n",
    "        print(f\"Sorry,we do not have {topping}.\")\n",
    "print(\"Your pizza is ready!\")\n"
   ]
  },
  {
   "cell_type": "code",
   "execution_count": 1,
   "id": "75d59360",
   "metadata": {},
   "outputs": [],
   "source": [
    "alien_0={'color':'green','points':5}"
   ]
  },
  {
   "cell_type": "code",
   "execution_count": 2,
   "id": "95e03683",
   "metadata": {},
   "outputs": [
    {
     "name": "stdout",
     "output_type": "stream",
     "text": [
      "green\n",
      "5\n"
     ]
    }
   ],
   "source": [
    "print(alien_0['color'])\n",
    "print(alien_0['points'])"
   ]
  },
  {
   "cell_type": "code",
   "execution_count": 3,
   "id": "881ad975",
   "metadata": {},
   "outputs": [
    {
     "name": "stdout",
     "output_type": "stream",
     "text": [
      "You just earned 5 points!\n"
     ]
    }
   ],
   "source": [
    "new_points = alien_0['points']\n",
    "print(f\"You just earned {new_points} points!\")"
   ]
  },
  {
   "cell_type": "code",
   "execution_count": 10,
   "id": "258e7402",
   "metadata": {},
   "outputs": [
    {
     "name": "stdout",
     "output_type": "stream",
     "text": [
      "{'color': 'yellow', 'points': 5, 'x_position': 0, 'y_position': 25, 'speed': 'medium'}\n"
     ]
    }
   ],
   "source": [
    "alien_0['x_position']=0\n",
    "alien_0['y_position']=25\n",
    "print(alien_0)"
   ]
  },
  {
   "cell_type": "code",
   "execution_count": 11,
   "id": "351c64f5",
   "metadata": {},
   "outputs": [
    {
     "name": "stdout",
     "output_type": "stream",
     "text": [
      "{'color': 'yellow', 'points': 5, 'x_position': 0, 'y_position': 25, 'speed': 'medium'}\n"
     ]
    }
   ],
   "source": [
    "alien_0['color']='yellow'\n",
    "print(alien_0)"
   ]
  },
  {
   "cell_type": "code",
   "execution_count": 13,
   "id": "ecbd620a",
   "metadata": {},
   "outputs": [
    {
     "name": "stdout",
     "output_type": "stream",
     "text": [
      "Original poisition: 2\n",
      "New position :4\n"
     ]
    }
   ],
   "source": [
    "alien_0['speed']='medium'\n",
    "print(f\"Original poisition: {alien_0['x_position']}\")\n",
    "\n",
    "if alien_0['speed']=='slow':\n",
    "    x_increment=1\n",
    "elif alien_0['speed']=='medium':\n",
    "    x_increment=2\n",
    "else:\n",
    "    x_increment=3\n",
    "\n",
    "alien_0['x_position']=alien_0['x_position']+x_increment\n",
    "print(f\"New position :{alien_0['x_position']}\")"
   ]
  },
  {
   "cell_type": "code",
   "execution_count": 14,
   "id": "5c96c820",
   "metadata": {},
   "outputs": [
    {
     "name": "stdout",
     "output_type": "stream",
     "text": [
      "Before deletion {'color': 'yellow', 'points': 5, 'x_position': 4, 'y_position': 25, 'speed': 'medium'}\n",
      "After deletion {'color': 'yellow', 'points': 5, 'y_position': 25, 'speed': 'medium'}\n"
     ]
    }
   ],
   "source": [
    "print(f\"Before deletion {alien_0}\")\n",
    "del alien_0['x_position']\n",
    "print(f\"After deletion {alien_0}\")\n"
   ]
  },
  {
   "cell_type": "code",
   "execution_count": 15,
   "id": "6486e3a9",
   "metadata": {},
   "outputs": [
    {
     "name": "stdout",
     "output_type": "stream",
     "text": [
      "Before deletion {'color': 'yellow', 'points': 5, 'y_position': 25, 'speed': 'medium'}\n",
      "After deletion {'color': 'yellow', 'points': 5, 'speed': 'medium'}\n"
     ]
    }
   ],
   "source": [
    "print(f\"Before deletion {alien_0}\")\n",
    "del alien_0['y_position']\n",
    "print(f\"After deletion {alien_0}\")"
   ]
  },
  {
   "cell_type": "code",
   "execution_count": 16,
   "id": "8e87c892",
   "metadata": {},
   "outputs": [],
   "source": [
    "favourite_languages = {\n",
    "    'jen':'python',\n",
    "    'sarah':'c',\n",
    "    'edward':'rust',\n",
    "    'phil':'python',\n",
    "}"
   ]
  },
  {
   "cell_type": "code",
   "execution_count": 17,
   "id": "601cdfa5",
   "metadata": {},
   "outputs": [
    {
     "name": "stdout",
     "output_type": "stream",
     "text": [
      "Sarah's favourite language is C.\n"
     ]
    }
   ],
   "source": [
    "language = favourite_languages['sarah'].title()\n",
    "print(f\"Sarah's favourite language is {language}.\")"
   ]
  },
  {
   "cell_type": "code",
   "execution_count": 18,
   "id": "1d4842c7",
   "metadata": {},
   "outputs": [
    {
     "data": {
      "text/plain": [
       "'python'"
      ]
     },
     "execution_count": 18,
     "metadata": {},
     "output_type": "execute_result"
    }
   ],
   "source": [
    "favourite_languages['jen']"
   ]
  },
  {
   "cell_type": "code",
   "execution_count": 19,
   "id": "436de214",
   "metadata": {},
   "outputs": [],
   "source": [
    "del favourite_languages['jen']"
   ]
  },
  {
   "cell_type": "code",
   "execution_count": 20,
   "id": "ce299c22",
   "metadata": {},
   "outputs": [
    {
     "name": "stdout",
     "output_type": "stream",
     "text": [
      "{'sarah': 'c', 'edward': 'rust', 'phil': 'python'}\n"
     ]
    }
   ],
   "source": [
    "print(favourite_languages)"
   ]
  },
  {
   "cell_type": "code",
   "execution_count": 22,
   "id": "c2a89c2e",
   "metadata": {},
   "outputs": [
    {
     "name": "stdout",
     "output_type": "stream",
     "text": [
      "No points assigned\n"
     ]
    }
   ],
   "source": [
    "point = alien_0.get('x_position', 'No points assigned')\n",
    "print(point)"
   ]
  },
  {
   "cell_type": "code",
   "execution_count": 24,
   "id": "620b2b25",
   "metadata": {},
   "outputs": [],
   "source": [
    "point = alien_0.get('x_position')\n",
    "print"
   ]
  },
  {
   "cell_type": "code",
   "execution_count": null,
   "id": "d8f01480",
   "metadata": {},
   "outputs": [],
   "source": []
  }
 ],
 "metadata": {
  "kernelspec": {
   "display_name": "Python 3 (ipykernel)",
   "language": "python",
   "name": "python3"
  },
  "language_info": {
   "codemirror_mode": {
    "name": "ipython",
    "version": 3
   },
   "file_extension": ".py",
   "mimetype": "text/x-python",
   "name": "python",
   "nbconvert_exporter": "python",
   "pygments_lexer": "ipython3",
   "version": "3.11.7"
  },
  "toc": {
   "base_numbering": 1,
   "nav_menu": {},
   "number_sections": true,
   "sideBar": true,
   "skip_h1_title": false,
   "title_cell": "Table of Contents",
   "title_sidebar": "Contents",
   "toc_cell": false,
   "toc_position": {},
   "toc_section_display": true,
   "toc_window_display": false
  }
 },
 "nbformat": 4,
 "nbformat_minor": 5
}
