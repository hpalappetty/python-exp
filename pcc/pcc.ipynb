{
 "cells": [
  {
   "cell_type": "markdown",
   "id": "e90d9e78",
   "metadata": {},
   "source": [
    "Lists, are ordered collections"
   ]
  },
  {
   "cell_type": "code",
   "execution_count": 3,
   "id": "780069e1",
   "metadata": {},
   "outputs": [
    {
     "name": "stdout",
     "output_type": "stream",
     "text": [
      "['trek', 'canondale', 'redline', 'specialized']\n"
     ]
    }
   ],
   "source": [
    "bicycles = ['trek', 'canondale', 'redline', 'specialized']\n",
    "print(bicycles)"
   ]
  },
  {
   "cell_type": "code",
   "execution_count": 4,
   "id": "8cbfafff",
   "metadata": {},
   "outputs": [
    {
     "name": "stdout",
     "output_type": "stream",
     "text": [
      "trek\n"
     ]
    }
   ],
   "source": [
    "print(bicycles[0])"
   ]
  },
  {
   "cell_type": "code",
   "execution_count": 7,
   "id": "3b9a23a0",
   "metadata": {},
   "outputs": [
    {
     "name": "stdout",
     "output_type": "stream",
     "text": [
      "Trek\n"
     ]
    }
   ],
   "source": [
    "print(bicycles[0].title())"
   ]
  },
  {
   "cell_type": "code",
   "execution_count": 8,
   "id": "a9ae343d",
   "metadata": {},
   "outputs": [
    {
     "name": "stdout",
     "output_type": "stream",
     "text": [
      "specialized\n"
     ]
    }
   ],
   "source": [
    "#accessing last element in the list\n",
    "print(bicycles[-1])"
   ]
  },
  {
   "cell_type": "code",
   "execution_count": 9,
   "id": "31f320c8",
   "metadata": {},
   "outputs": [
    {
     "name": "stdout",
     "output_type": "stream",
     "text": [
      "My first bicycle was a Trek\n"
     ]
    }
   ],
   "source": [
    "message = f\"My first bicycle was a {bicycles[0].title()}\"\n",
    "print(message)"
   ]
  },
  {
   "cell_type": "code",
   "execution_count": 1,
   "id": "5305d63c",
   "metadata": {},
   "outputs": [
    {
     "name": "stdout",
     "output_type": "stream",
     "text": [
      "['honda', 'yamaha', 'suzuki', 'tvs', 'enfield']\n"
     ]
    }
   ],
   "source": [
    "motorcycles = ['honda', 'yamaha', 'suzuki', 'tvs', 'enfield']\n",
    "print(motorcycles)"
   ]
  },
  {
   "cell_type": "code",
   "execution_count": 3,
   "id": "3c1ed076",
   "metadata": {},
   "outputs": [
    {
     "name": "stdout",
     "output_type": "stream",
     "text": [
      "['ducati', 'yamaha', 'suzuki', 'tvs', 'enfield']\n"
     ]
    }
   ],
   "source": [
    "motorcycles[0]='ducati'\n",
    "print(motorcycles)"
   ]
  },
  {
   "cell_type": "code",
   "execution_count": 5,
   "id": "aab528d5",
   "metadata": {},
   "outputs": [
    {
     "name": "stdout",
     "output_type": "stream",
     "text": [
      "['ducati', 'yamaha', 'suzuki', 'tvs', 'enfield', 'jawa', 'jawa']\n"
     ]
    }
   ],
   "source": [
    "motorcycles.append('jawa')\n",
    "print(motorcycles)"
   ]
  },
  {
   "cell_type": "code",
   "execution_count": 6,
   "id": "e2973f0a",
   "metadata": {},
   "outputs": [
    {
     "name": "stdout",
     "output_type": "stream",
     "text": [
      "['giant', 'peloton', 'trek']\n"
     ]
    }
   ],
   "source": [
    "roadcycles=[]\n",
    "roadcycles.append('giant')\n",
    "roadcycles.append('peloton')\n",
    "roadcycles.append('trek')\n",
    "print(roadcycles)"
   ]
  },
  {
   "cell_type": "code",
   "execution_count": 7,
   "id": "82bfec19",
   "metadata": {},
   "outputs": [
    {
     "data": {
      "text/plain": [
       "7"
      ]
     },
     "execution_count": 7,
     "metadata": {},
     "output_type": "execute_result"
    }
   ],
   "source": [
    "len(motorcycles)"
   ]
  },
  {
   "cell_type": "code",
   "execution_count": 8,
   "id": "b917ce5e",
   "metadata": {},
   "outputs": [
    {
     "name": "stdout",
     "output_type": "stream",
     "text": [
      "['ducati', 'yamaha', 'suzuki', 'tvs', 'enfield', 'jawa', 'ktm', 'jawa']\n"
     ]
    }
   ],
   "source": [
    "motorcycles.insert(6,'ktm')\n",
    "print(motorcycles)"
   ]
  },
  {
   "cell_type": "code",
   "execution_count": 10,
   "id": "9a259e3a",
   "metadata": {},
   "outputs": [
    {
     "name": "stdout",
     "output_type": "stream",
     "text": [
      "['ducati', 'yamaha', 'suzuki', 'tvs', 'enfield', 'jawa', 'ktm', 'honda', 'honda', 'jawa']\n"
     ]
    }
   ],
   "source": [
    "motorcycles.insert(7,'honda')\n",
    "print(motorcycles)"
   ]
  },
  {
   "cell_type": "code",
   "execution_count": 11,
   "id": "c3fa8132",
   "metadata": {},
   "outputs": [
    {
     "name": "stdout",
     "output_type": "stream",
     "text": [
      "['ducati', 'yamaha', 'suzuki', 'tvs', 'enfield', 'jawa', 'ktm', 'honda']\n"
     ]
    }
   ],
   "source": [
    "del motorcycles[7]\n",
    "del motorcycles[8]\n",
    "print(motorcycles)"
   ]
  },
  {
   "cell_type": "code",
   "execution_count": 12,
   "id": "ab663531",
   "metadata": {},
   "outputs": [
    {
     "name": "stdout",
     "output_type": "stream",
     "text": [
      "['ducati', 'yamaha', 'suzuki', 'tvs', 'enfield', 'jawa', 'ktm']\n"
     ]
    }
   ],
   "source": [
    "popped_item = motorcycles.pop()\n",
    "print(motorcycles)"
   ]
  },
  {
   "cell_type": "code",
   "execution_count": 13,
   "id": "a0c38180",
   "metadata": {},
   "outputs": [
    {
     "name": "stdout",
     "output_type": "stream",
     "text": [
      "honda\n"
     ]
    }
   ],
   "source": [
    "print(popped_item)"
   ]
  },
  {
   "cell_type": "code",
   "execution_count": 14,
   "id": "52c5b838",
   "metadata": {},
   "outputs": [
    {
     "name": "stdout",
     "output_type": "stream",
     "text": [
      "['yamaha', 'suzuki', 'tvs', 'enfield', 'jawa', 'ktm']\n",
      "ducati\n"
     ]
    }
   ],
   "source": [
    "first_item = motorcycles.pop(0)\n",
    "print(motorcycles)\n",
    "print(first_item)"
   ]
  },
  {
   "cell_type": "code",
   "execution_count": 15,
   "id": "0459b7a9",
   "metadata": {},
   "outputs": [
    {
     "name": "stdout",
     "output_type": "stream",
     "text": [
      "The first motorcycle I owned was a Ducati.\n"
     ]
    }
   ],
   "source": [
    "print(f\"The first motorcycle I owned was a {first_item.title()}.\")"
   ]
  },
  {
   "cell_type": "code",
   "execution_count": 16,
   "id": "7a033b8a",
   "metadata": {},
   "outputs": [
    {
     "name": "stdout",
     "output_type": "stream",
     "text": [
      "['yamaha', 'suzuki', 'tvs', 'enfield', 'jawa']\n",
      "None\n"
     ]
    }
   ],
   "source": [
    "last_item = motorcycles.remove('ktm')\n",
    "print(motorcycles)\n",
    "print(last_item)"
   ]
  },
  {
   "cell_type": "code",
   "execution_count": 17,
   "id": "d6596bd2",
   "metadata": {},
   "outputs": [
    {
     "name": "stdout",
     "output_type": "stream",
     "text": [
      "['suzuki', 'tvs', 'enfield', 'jawa']\n",
      "\n",
      "A Yamaha is too expensive for me.\n"
     ]
    }
   ],
   "source": [
    "too_expensive = 'yamaha'\n",
    "motorcycles.remove(too_expensive)\n",
    "print(motorcycles)\n",
    "print(f\"\\nA {too_expensive.title()} is too expensive for me.\")"
   ]
  },
  {
   "cell_type": "markdown",
   "id": "56579bee",
   "metadata": {},
   "source": [
    "The remove() method deletes only the first occurrence of the value you specify. If there’s\n",
    "a possibility the value appears more than once in the list, you’ll need to use a loop\n",
    "to make sure all occurrences of the value are removed."
   ]
  },
  {
   "cell_type": "code",
   "execution_count": 22,
   "id": "7fcaf410",
   "metadata": {},
   "outputs": [
    {
     "name": "stdout",
     "output_type": "stream",
     "text": [
      "['suzuki', 'tvs', 'enfield']\n"
     ]
    }
   ],
   "source": [
    "del motorcycles[len(motorcycles)-1]\n",
    "print(motorcycles)"
   ]
  },
  {
   "cell_type": "code",
   "execution_count": 23,
   "id": "d03dc611",
   "metadata": {},
   "outputs": [
    {
     "name": "stdout",
     "output_type": "stream",
     "text": [
      "['bmw', 'audi', 'toyota', 'tata', 'mahindra', 'maruti']\n",
      "\n",
      "['audi', 'bmw', 'mahindra', 'maruti', 'tata', 'toyota']\n"
     ]
    }
   ],
   "source": [
    "cars = ['bmw','audi','toyota','tata','mahindra','maruti']\n",
    "print(cars)\n",
    "cars.sort()\n",
    "print(f\"\\n{cars}\")"
   ]
  },
  {
   "cell_type": "code",
   "execution_count": 24,
   "id": "2fb5e119",
   "metadata": {},
   "outputs": [
    {
     "name": "stdout",
     "output_type": "stream",
     "text": [
      "['toyota', 'tata', 'maruti', 'mahindra', 'bmw', 'audi']\n"
     ]
    }
   ],
   "source": [
    "cars.sort(reverse=True)\n",
    "print(cars)"
   ]
  },
  {
   "cell_type": "code",
   "execution_count": 27,
   "id": "559c81cb",
   "metadata": {},
   "outputs": [
    {
     "name": "stdout",
     "output_type": "stream",
     "text": [
      "Original List of cars:\n",
      "['toyota', 'tata', 'maruti', 'mahindra', 'bmw', 'audi']\n",
      "\n",
      " The sorted list of cars:\n",
      "['audi', 'bmw', 'mahindra', 'maruti', 'tata', 'toyota']\n",
      "\n",
      "Original list again:\n",
      "['toyota', 'tata', 'maruti', 'mahindra', 'bmw', 'audi']\n"
     ]
    }
   ],
   "source": [
    "print(\"Original List of cars:\")\n",
    "print(cars)\n",
    "\n",
    "print(\"\\n The sorted list of cars:\")\n",
    "print(sorted(cars))\n",
    "\n",
    "print(\"\\nOriginal list again:\")\n",
    "print(cars)"
   ]
  },
  {
   "cell_type": "code",
   "execution_count": 28,
   "id": "e624e35f",
   "metadata": {},
   "outputs": [
    {
     "name": "stdout",
     "output_type": "stream",
     "text": [
      "['audi', 'bmw', 'mahindra', 'maruti', 'tata', 'toyota']\n"
     ]
    }
   ],
   "source": [
    "cars.reverse()\n",
    "print(cars)"
   ]
  },
  {
   "cell_type": "markdown",
   "id": "732fb497",
   "metadata": {},
   "source": [
    "sort() -> sorts the list in ascending order and changes it permanently. </br>\n",
    "sort(reverse=True)-> sorts the list in reverse order and changes it permanently. </br>\n",
    "sorted([List]) -> sorts the list, and does not change it permanently. </br>\n",
    "sorted([List],reverse=True) -> if you want to display a list in reverse-alphabetical order.</br>\n",
    "[List].reverse() -> If you would like to reverse the original order of the list. reverse() does not sort backwards, it simply reverses the order of the list. </br>"
   ]
  },
  {
   "cell_type": "code",
   "execution_count": 29,
   "id": "68f1ac5e",
   "metadata": {},
   "outputs": [
    {
     "data": {
      "text/plain": [
       "6"
      ]
     },
     "execution_count": 29,
     "metadata": {},
     "output_type": "execute_result"
    }
   ],
   "source": [
    "len(cars)"
   ]
  },
  {
   "cell_type": "code",
   "execution_count": 30,
   "id": "ecfd5290",
   "metadata": {},
   "outputs": [
    {
     "name": "stdout",
     "output_type": "stream",
     "text": [
      "toyota\n"
     ]
    }
   ],
   "source": [
    "#To get the last car\n",
    "print(cars[-1])"
   ]
  },
  {
   "cell_type": "code",
   "execution_count": 31,
   "id": "bd07fcbe",
   "metadata": {},
   "outputs": [
    {
     "ename": "IndexError",
     "evalue": "list index out of range",
     "output_type": "error",
     "traceback": [
      "\u001b[0;31m---------------------------------------------------------------------------\u001b[0m",
      "\u001b[0;31mIndexError\u001b[0m                                Traceback (most recent call last)",
      "Cell \u001b[0;32mIn[31], line 3\u001b[0m\n\u001b[1;32m      1\u001b[0m \u001b[38;5;66;03m#error if you try to get the last element from an empty list\u001b[39;00m\n\u001b[1;32m      2\u001b[0m dummy\u001b[38;5;241m=\u001b[39m[]\n\u001b[0;32m----> 3\u001b[0m \u001b[38;5;28mprint\u001b[39m(dummy[\u001b[38;5;241m-\u001b[39m\u001b[38;5;241m1\u001b[39m])\n",
      "\u001b[0;31mIndexError\u001b[0m: list index out of range"
     ]
    }
   ],
   "source": [
    "#error if you try to get the last element from an empty list\n",
    "dummy=[]\n",
    "print(dummy[-1])"
   ]
  },
  {
   "cell_type": "code",
   "execution_count": 1,
   "id": "a41bff30",
   "metadata": {},
   "outputs": [
    {
     "name": "stdout",
     "output_type": "stream",
     "text": [
      "alice\n",
      "david\n",
      "carolina\n"
     ]
    }
   ],
   "source": [
    "magicians = ['alice', 'david', 'carolina']\n",
    "for magician in magicians:\n",
    "    print(magician)"
   ]
  },
  {
   "cell_type": "code",
   "execution_count": 2,
   "id": "1915b568",
   "metadata": {},
   "outputs": [
    {
     "name": "stdout",
     "output_type": "stream",
     "text": [
      "Alice, that was a great trick!\n",
      "David, that was a great trick!\n",
      "Carolina, that was a great trick!\n"
     ]
    }
   ],
   "source": [
    "for magician in magicians:\n",
    "    print(f\"{magician.title()}, that was a great trick!\")"
   ]
  },
  {
   "cell_type": "code",
   "execution_count": 3,
   "id": "a8628268",
   "metadata": {},
   "outputs": [
    {
     "name": "stdout",
     "output_type": "stream",
     "text": [
      "1\n",
      "2\n",
      "3\n",
      "4\n"
     ]
    }
   ],
   "source": [
    "for value in range(1,5):\n",
    "    print(value)"
   ]
  },
  {
   "cell_type": "code",
   "execution_count": 4,
   "id": "4615732d",
   "metadata": {},
   "outputs": [
    {
     "name": "stdout",
     "output_type": "stream",
     "text": [
      "0\n",
      "1\n",
      "2\n",
      "3\n",
      "4\n"
     ]
    }
   ],
   "source": [
    "for value in range(5):\n",
    "    print(value)"
   ]
  },
  {
   "cell_type": "code",
   "execution_count": 5,
   "id": "f9959385",
   "metadata": {},
   "outputs": [
    {
     "name": "stdout",
     "output_type": "stream",
     "text": [
      "[1, 2, 3, 4, 5]\n"
     ]
    }
   ],
   "source": [
    "numbers = list(range(1,6))\n",
    "print(numbers)"
   ]
  },
  {
   "cell_type": "code",
   "execution_count": 7,
   "id": "61a1ff60",
   "metadata": {},
   "outputs": [
    {
     "name": "stdout",
     "output_type": "stream",
     "text": [
      "[2, 4, 6, 8, 10]\n"
     ]
    }
   ],
   "source": [
    "even_numbers = list(range(2,11,2))\n",
    "print(even_numbers)"
   ]
  },
  {
   "cell_type": "code",
   "execution_count": 8,
   "id": "b0fbe917",
   "metadata": {},
   "outputs": [
    {
     "name": "stdout",
     "output_type": "stream",
     "text": [
      "[1, 4, 9, 16, 25, 36, 49, 64, 81, 100]\n"
     ]
    }
   ],
   "source": [
    "squares = []\n",
    "for value in range(1,11):\n",
    "    square = value**2\n",
    "    squares.append(square)\n",
    "print(squares)"
   ]
  },
  {
   "cell_type": "code",
   "execution_count": 17,
   "id": "9526f1dd",
   "metadata": {},
   "outputs": [
    {
     "name": "stdout",
     "output_type": "stream",
     "text": [
      "0\n",
      "9\n",
      "45\n"
     ]
    }
   ],
   "source": [
    "digits = [1,2,3,4,5,6,7,8,9,0]\n",
    "print(min(digits))\n",
    "print(max(digits))\n",
    "print(sum(digits))"
   ]
  },
  {
   "cell_type": "code",
   "execution_count": 18,
   "id": "264f039e",
   "metadata": {},
   "outputs": [
    {
     "name": "stdout",
     "output_type": "stream",
     "text": [
      "[1, 4, 9, 16, 25, 36, 49, 64, 81, 100]\n"
     ]
    }
   ],
   "source": [
    "squares = [x**2 for x in range(1,11)] #this approach is called as list comprehension\n",
    "print(squares)"
   ]
  },
  {
   "cell_type": "code",
   "execution_count": 19,
   "id": "f78a4348",
   "metadata": {},
   "outputs": [
    {
     "name": "stdout",
     "output_type": "stream",
     "text": [
      "['ronaldo', 'messi', 'peter gade']\n"
     ]
    }
   ],
   "source": [
    "players = ['ronaldo','messi','peter gade','lcw','taufik','lin dan','hyun il']\n",
    "print(players[0:3])"
   ]
  },
  {
   "cell_type": "code",
   "execution_count": 20,
   "id": "c0830377",
   "metadata": {},
   "outputs": [
    {
     "name": "stdout",
     "output_type": "stream",
     "text": [
      "['messi', 'peter gade', 'lcw']\n"
     ]
    }
   ],
   "source": [
    "print(players[1:4])"
   ]
  },
  {
   "cell_type": "code",
   "execution_count": 21,
   "id": "5360cf0d",
   "metadata": {},
   "outputs": [
    {
     "name": "stdout",
     "output_type": "stream",
     "text": [
      "['ronaldo', 'messi', 'peter gade', 'lcw']\n"
     ]
    }
   ],
   "source": [
    "print(players[:4])"
   ]
  },
  {
   "cell_type": "code",
   "execution_count": 22,
   "id": "e46848a7",
   "metadata": {},
   "outputs": [
    {
     "name": "stdout",
     "output_type": "stream",
     "text": [
      "['peter gade', 'lcw', 'taufik', 'lin dan', 'hyun il']\n"
     ]
    }
   ],
   "source": [
    "print(players[2:])"
   ]
  },
  {
   "cell_type": "code",
   "execution_count": 23,
   "id": "991817d2",
   "metadata": {},
   "outputs": [
    {
     "name": "stdout",
     "output_type": "stream",
     "text": [
      "['taufik', 'lin dan', 'hyun il']\n"
     ]
    }
   ],
   "source": [
    "print(players[-3:])"
   ]
  },
  {
   "cell_type": "code",
   "execution_count": 24,
   "id": "fcf52ea6",
   "metadata": {},
   "outputs": [
    {
     "name": "stdout",
     "output_type": "stream",
     "text": [
      "['hyun il']\n"
     ]
    }
   ],
   "source": [
    "print(players[-1:])"
   ]
  },
  {
   "cell_type": "code",
   "execution_count": 26,
   "id": "dc60706d",
   "metadata": {},
   "outputs": [
    {
     "name": "stdout",
     "output_type": "stream",
     "text": [
      "Looping through a slice or first 4 elements in the list\n",
      "\n",
      "Ronaldo\n",
      "Messi\n",
      "Peter Gade\n",
      "Lcw\n"
     ]
    }
   ],
   "source": [
    "print(\"Looping through a slice or first 4 elements in the list\\n\")\n",
    "for player in players[:4]:\n",
    "    print(player.title())"
   ]
  },
  {
   "cell_type": "code",
   "execution_count": 27,
   "id": "34a10dc7",
   "metadata": {},
   "outputs": [],
   "source": [
    "friends_fav_players = players[:] #making a copy of the list\n",
    "friends_fav_players.append('Lee Zii Jia')"
   ]
  },
  {
   "cell_type": "code",
   "execution_count": 28,
   "id": "77a1b6a1",
   "metadata": {},
   "outputs": [
    {
     "name": "stdout",
     "output_type": "stream",
     "text": [
      "['ronaldo', 'messi', 'peter gade', 'lcw', 'taufik', 'lin dan', 'hyun il']\n",
      "['ronaldo', 'messi', 'peter gade', 'lcw', 'taufik', 'lin dan', 'hyun il', 'Lee Zii Jia']\n"
     ]
    }
   ],
   "source": [
    "print(players)\n",
    "print(friends_fav_players)"
   ]
  },
  {
   "cell_type": "markdown",
   "id": "e1a7b605",
   "metadata": {},
   "source": [
    "Tuples : Immutable lists, not like lists[], wont or cannot change"
   ]
  },
  {
   "cell_type": "code",
   "execution_count": 32,
   "id": "8ec462b0",
   "metadata": {},
   "outputs": [
    {
     "name": "stdout",
     "output_type": "stream",
     "text": [
      "(200, 50)\n",
      "200\n",
      "50\n"
     ]
    }
   ],
   "source": [
    "dimensions = (200,50)\n",
    "print(dimensions)\n",
    "print(dimensions[0])\n",
    "print(dimensions[1])"
   ]
  },
  {
   "cell_type": "code",
   "execution_count": 33,
   "id": "d0a38bcc",
   "metadata": {},
   "outputs": [
    {
     "ename": "TypeError",
     "evalue": "'tuple' object does not support item assignment",
     "output_type": "error",
     "traceback": [
      "\u001b[0;31m---------------------------------------------------------------------------\u001b[0m",
      "\u001b[0;31mTypeError\u001b[0m                                 Traceback (most recent call last)",
      "Cell \u001b[0;32mIn[33], line 1\u001b[0m\n\u001b[0;32m----> 1\u001b[0m dimensions[\u001b[38;5;241m0\u001b[39m]\u001b[38;5;241m=\u001b[39m\u001b[38;5;241m230\u001b[39m\n",
      "\u001b[0;31mTypeError\u001b[0m: 'tuple' object does not support item assignment"
     ]
    }
   ],
   "source": [
    "dimensions[0]=230 # This will thrown an error, we cannot assigne a new value to an item in a tuple."
   ]
  },
  {
   "cell_type": "code",
   "execution_count": 34,
   "id": "3a3b7fd7",
   "metadata": {},
   "outputs": [
    {
     "name": "stdout",
     "output_type": "stream",
     "text": [
      "200\n",
      "50\n"
     ]
    }
   ],
   "source": [
    "for dimension in dimensions:\n",
    "    print(dimension)"
   ]
  },
  {
   "cell_type": "code",
   "execution_count": 2,
   "id": "0e42beff",
   "metadata": {},
   "outputs": [
    {
     "name": "stdout",
     "output_type": "stream",
     "text": [
      "Mahindra\n",
      "Tata\n",
      "Maruti\n",
      "Force\n",
      "Audi\n",
      "TOYOTA\n",
      "Mercedes\n",
      "Bmw\n"
     ]
    }
   ],
   "source": [
    "cars =['mahindra','tata','maruti','force','audi','toyota','mercedes','bmw']\n",
    "for car in cars:\n",
    "    if car=='toyota':\n",
    "        print(car.upper())\n",
    "    else:\n",
    "        print(car.title())\n",
    "        "
   ]
  },
  {
   "cell_type": "code",
   "execution_count": 4,
   "id": "77523251",
   "metadata": {},
   "outputs": [
    {
     "data": {
      "text/plain": [
       "False"
      ]
     },
     "execution_count": 4,
     "metadata": {},
     "output_type": "execute_result"
    }
   ],
   "source": [
    "car='Audi'\n",
    "car=='audi' #Equality checks are case sensitive in Python"
   ]
  },
  {
   "cell_type": "code",
   "execution_count": 7,
   "id": "c49f1f5c",
   "metadata": {},
   "outputs": [
    {
     "name": "stdout",
     "output_type": "stream",
     "text": [
      "True\n",
      "True\n"
     ]
    }
   ],
   "source": [
    "print(car.lower()=='audi') #Two ways to handle case sensitivity scenario\n",
    "print(car=='audi'.title())"
   ]
  },
  {
   "cell_type": "code",
   "execution_count": 8,
   "id": "f59d12ef",
   "metadata": {},
   "outputs": [
    {
     "name": "stdout",
     "output_type": "stream",
     "text": [
      "Hold the achovies!\n"
     ]
    }
   ],
   "source": [
    "requested_topping='mushrooms'\n",
    "if requested_topping!='anchovies':\n",
    "    print(\"Hold the achovies!\")"
   ]
  },
  {
   "cell_type": "code",
   "execution_count": 9,
   "id": "a7f1221f",
   "metadata": {},
   "outputs": [
    {
     "data": {
      "text/plain": [
       "True"
      ]
     },
     "execution_count": 9,
     "metadata": {},
     "output_type": "execute_result"
    }
   ],
   "source": [
    "age=18\n",
    "age==18"
   ]
  },
  {
   "cell_type": "code",
   "execution_count": 10,
   "id": "4fadb62e",
   "metadata": {},
   "outputs": [
    {
     "name": "stdout",
     "output_type": "stream",
     "text": [
      "This is not the correct answer! Please try again!\n"
     ]
    }
   ],
   "source": [
    "answer=17\n",
    "if answer!=42:\n",
    "    print(\"This is not the correct answer! Please try again!\")"
   ]
  },
  {
   "cell_type": "code",
   "execution_count": 11,
   "id": "416cd3f6",
   "metadata": {},
   "outputs": [
    {
     "data": {
      "text/plain": [
       "True"
      ]
     },
     "execution_count": 11,
     "metadata": {},
     "output_type": "execute_result"
    }
   ],
   "source": [
    "age=19\n",
    "age<21"
   ]
  },
  {
   "cell_type": "code",
   "execution_count": 12,
   "id": "c9e51662",
   "metadata": {},
   "outputs": [
    {
     "data": {
      "text/plain": [
       "True"
      ]
     },
     "execution_count": 12,
     "metadata": {},
     "output_type": "execute_result"
    }
   ],
   "source": [
    "age<=21"
   ]
  },
  {
   "cell_type": "code",
   "execution_count": 13,
   "id": "83260d72",
   "metadata": {},
   "outputs": [
    {
     "data": {
      "text/plain": [
       "False"
      ]
     },
     "execution_count": 13,
     "metadata": {},
     "output_type": "execute_result"
    }
   ],
   "source": [
    "age>21"
   ]
  },
  {
   "cell_type": "code",
   "execution_count": 14,
   "id": "c3cc428f",
   "metadata": {},
   "outputs": [
    {
     "data": {
      "text/plain": [
       "False"
      ]
     },
     "execution_count": 14,
     "metadata": {},
     "output_type": "execute_result"
    }
   ],
   "source": [
    "age>=21"
   ]
  },
  {
   "cell_type": "code",
   "execution_count": 15,
   "id": "cab0ad73",
   "metadata": {},
   "outputs": [
    {
     "data": {
      "text/plain": [
       "False"
      ]
     },
     "execution_count": 15,
     "metadata": {},
     "output_type": "execute_result"
    }
   ],
   "source": [
    "age_0=22\n",
    "age_1=18\n",
    "age_0>=21 and age_1>=21"
   ]
  },
  {
   "cell_type": "code",
   "execution_count": 16,
   "id": "9cfab841",
   "metadata": {},
   "outputs": [
    {
     "data": {
      "text/plain": [
       "True"
      ]
     },
     "execution_count": 16,
     "metadata": {},
     "output_type": "execute_result"
    }
   ],
   "source": [
    "age_1=22\n",
    "age_0>=21 and age_1>=21"
   ]
  },
  {
   "cell_type": "code",
   "execution_count": 17,
   "id": "f618312f",
   "metadata": {},
   "outputs": [
    {
     "name": "stdout",
     "output_type": "stream",
     "text": [
      "True\n"
     ]
    }
   ],
   "source": [
    "age_1=18\n",
    "print(age_0>=21 or age_1>=21)"
   ]
  },
  {
   "cell_type": "code",
   "execution_count": 22,
   "id": "9eb31131",
   "metadata": {},
   "outputs": [
    {
     "name": "stdout",
     "output_type": "stream",
     "text": [
      "False\n"
     ]
    }
   ],
   "source": [
    "age_0=18\n",
    "age_1=18\n",
    "print(age_0>=21 or age_1>=21)"
   ]
  },
  {
   "cell_type": "code",
   "execution_count": 23,
   "id": "312dd10b",
   "metadata": {},
   "outputs": [
    {
     "data": {
      "text/plain": [
       "True"
      ]
     },
     "execution_count": 23,
     "metadata": {},
     "output_type": "execute_result"
    }
   ],
   "source": [
    "toppings =['mushrooms','jalapeno','onions','olives','pineapple']\n",
    "'olives' in toppings"
   ]
  },
  {
   "cell_type": "code",
   "execution_count": 28,
   "id": "59a7ece2",
   "metadata": {},
   "outputs": [
    {
     "name": "stdout",
     "output_type": "stream",
     "text": [
      "You are a vegetarian!\n"
     ]
    }
   ],
   "source": [
    "if 'pepperoni' not in toppings:\n",
    "    print('You are a vegetarian!')"
   ]
  },
  {
   "cell_type": "code",
   "execution_count": 30,
   "id": "374d3c96",
   "metadata": {},
   "outputs": [],
   "source": [
    "age=18\n",
    "if age>=18:\n",
    "    print(\"You're old enough to vote!\")"
   ]
  },
  {
   "cell_type": "code",
   "execution_count": 32,
   "id": "7b0939d1",
   "metadata": {},
   "outputs": [
    {
     "name": "stdout",
     "output_type": "stream",
     "text": [
      "Gotta wait few more years!\n"
     ]
    }
   ],
   "source": [
    "age=16\n",
    "if age>=18:\n",
    "    print(\"You're old enough to vote!\")\n",
    "else:\n",
    "    print(\"Gotta wait few more years!\")"
   ]
  },
  {
   "cell_type": "code",
   "execution_count": 33,
   "id": "df96ff18",
   "metadata": {},
   "outputs": [
    {
     "name": "stdout",
     "output_type": "stream",
     "text": [
      "Your admission cost is $25\n"
     ]
    }
   ],
   "source": [
    "age=12\n",
    "if age<4:\n",
    "    print(\"Your admission cost is $0\")\n",
    "elif age<18:\n",
    "    print(\"Your admission cost is $25\")\n",
    "else:\n",
    "    print(\"Your admission cost is $40\")"
   ]
  },
  {
   "cell_type": "code",
   "execution_count": 34,
   "id": "c25c61bd",
   "metadata": {},
   "outputs": [
    {
     "name": "stdout",
     "output_type": "stream",
     "text": [
      "Your admission cost is $25.\n"
     ]
    }
   ],
   "source": [
    "age=12\n",
    "if age<4:\n",
    "    price=0\n",
    "elif age<18:\n",
    "    price=25\n",
    "else:\n",
    "    price=40\n",
    "print(f\"Your admission cost is ${price}.\")"
   ]
  },
  {
   "cell_type": "markdown",
   "id": "8782a520",
   "metadata": {},
   "source": [
    "if you want only one block of code to run, use an if-elif-else\n",
    "chain. If more than one block of code needs to run, use a series of independent if statements."
   ]
  },
  {
   "cell_type": "code",
   "execution_count": 35,
   "id": "0d720828",
   "metadata": {},
   "outputs": [
    {
     "name": "stdout",
     "output_type": "stream",
     "text": [
      "Adding mushrooms.\n",
      "Sorry! We're out of Jalapeno right now!\n",
      "Adding onions.\n",
      "Adding olives.\n",
      "Adding pineapple.\n",
      "Your pizza is ready!\n"
     ]
    }
   ],
   "source": [
    "toppings =['mushrooms','jalapeno','onions','olives','pineapple']\n",
    "\n",
    "for topping in toppings:\n",
    "    if topping=='jalapeno':\n",
    "        print(\"Sorry! We're out of Jalapeno right now!\")\n",
    "    else:\n",
    "        print(f\"Adding {topping}.\")\n",
    "print(\"Your pizza is ready!\")"
   ]
  },
  {
   "cell_type": "code",
   "execution_count": 36,
   "id": "9fa92384",
   "metadata": {},
   "outputs": [
    {
     "name": "stdout",
     "output_type": "stream",
     "text": [
      "Are you sure you want a plain pizza?\n"
     ]
    }
   ],
   "source": [
    "toppings = []\n",
    "if toppings:\n",
    "    for topping in toppings:\n",
    "        print(f\"Adding {topping}.\")\n",
    "    print(\"Finished making pizza\")\n",
    "else:\n",
    "    print(\"Are you sure you want a plain pizza?\")"
   ]
  },
  {
   "cell_type": "code",
   "execution_count": 39,
   "id": "a8e74211",
   "metadata": {},
   "outputs": [
    {
     "name": "stdout",
     "output_type": "stream",
     "text": [
      "Adding mushrooms!\n",
      "Sorry,we do not have french fries.\n",
      "Sorry,we do not have extra cheese.\n",
      "Your pizza is ready!\n"
     ]
    }
   ],
   "source": [
    "available_toppings =['mushrooms','jalapeno','onions','olives','pineapple']\n",
    "req_toppings = ['mushrooms','french fries','extra cheese']\n",
    "\n",
    "for topping in req_toppings:\n",
    "    if topping in available_toppings:\n",
    "        print(f\"Adding {topping}!\")\n",
    "    else:\n",
    "        print(f\"Sorry,we do not have {topping}.\")\n",
    "print(\"Your pizza is ready!\")\n"
   ]
  },
  {
   "cell_type": "code",
   "execution_count": 40,
   "id": "7437d856",
   "metadata": {},
   "outputs": [
    {
     "name": "stdout",
     "output_type": "stream",
     "text": [
      "Adding mushrooms!\n",
      "Sorry,we do not have french fries.\n",
      "Sorry,we do not have extra cheese.\n",
      "Your pizza is ready!\n"
     ]
    }
   ],
   "source": [
    "available_toppings =('mushrooms','jalapeno','onions','olives','pineapple')\n",
    "req_toppings = ['mushrooms','french fries','extra cheese']\n",
    "\n",
    "for topping in req_toppings:\n",
    "    if topping in available_toppings:\n",
    "        print(f\"Adding {topping}!\")\n",
    "    else:\n",
    "        print(f\"Sorry,we do not have {topping}.\")\n",
    "print(\"Your pizza is ready!\")\n"
   ]
  },
  {
   "cell_type": "code",
   "execution_count": 1,
   "id": "75d59360",
   "metadata": {},
   "outputs": [],
   "source": [
    "alien_0={'color':'green','points':5}"
   ]
  },
  {
   "cell_type": "code",
   "execution_count": 2,
   "id": "af60c4dd",
   "metadata": {},
   "outputs": [
    {
     "name": "stdout",
     "output_type": "stream",
     "text": [
      "green\n",
      "5\n"
     ]
    }
   ],
   "source": [
    "print(alien_0['color'])\n",
    "print(alien_0['points'])"
   ]
  },
  {
   "cell_type": "code",
   "execution_count": 3,
   "id": "46e8761a",
   "metadata": {},
   "outputs": [
    {
     "name": "stdout",
     "output_type": "stream",
     "text": [
      "You just earned 5 points!\n"
     ]
    }
   ],
   "source": [
    "new_points = alien_0['points']\n",
    "print(f\"You just earned {new_points} points!\")"
   ]
  },
  {
   "cell_type": "code",
   "execution_count": 10,
   "id": "aa42672e",
   "metadata": {},
   "outputs": [
    {
     "name": "stdout",
     "output_type": "stream",
     "text": [
      "{'color': 'yellow', 'points': 5, 'x_position': 0, 'y_position': 25, 'speed': 'medium'}\n"
     ]
    }
   ],
   "source": [
    "alien_0['x_position']=0\n",
    "alien_0['y_position']=25\n",
    "print(alien_0)"
   ]
  },
  {
   "cell_type": "code",
   "execution_count": 11,
   "id": "6452d5c3",
   "metadata": {},
   "outputs": [
    {
     "name": "stdout",
     "output_type": "stream",
     "text": [
      "{'color': 'yellow', 'points': 5, 'x_position': 0, 'y_position': 25, 'speed': 'medium'}\n"
     ]
    }
   ],
   "source": [
    "alien_0['color']='yellow'\n",
    "print(alien_0)"
   ]
  },
  {
   "cell_type": "code",
   "execution_count": 13,
   "id": "b25210cf",
   "metadata": {},
   "outputs": [
    {
     "name": "stdout",
     "output_type": "stream",
     "text": [
      "Original poisition: 2\n",
      "New position :4\n"
     ]
    }
   ],
   "source": [
    "alien_0['speed']='medium'\n",
    "print(f\"Original poisition: {alien_0['x_position']}\")\n",
    "\n",
    "if alien_0['speed']=='slow':\n",
    "    x_increment=1\n",
    "elif alien_0['speed']=='medium':\n",
    "    x_increment=2\n",
    "else:\n",
    "    x_increment=3\n",
    "\n",
    "alien_0['x_position']=alien_0['x_position']+x_increment\n",
    "print(f\"New position :{alien_0['x_position']}\")"
   ]
  },
  {
   "cell_type": "code",
   "execution_count": 14,
   "id": "f73b5863",
   "metadata": {},
   "outputs": [
    {
     "name": "stdout",
     "output_type": "stream",
     "text": [
      "Before deletion {'color': 'yellow', 'points': 5, 'x_position': 4, 'y_position': 25, 'speed': 'medium'}\n",
      "After deletion {'color': 'yellow', 'points': 5, 'y_position': 25, 'speed': 'medium'}\n"
     ]
    }
   ],
   "source": [
    "print(f\"Before deletion {alien_0}\")\n",
    "del alien_0['x_position']\n",
    "print(f\"After deletion {alien_0}\")\n"
   ]
  },
  {
   "cell_type": "code",
   "execution_count": 15,
   "id": "b8de6ce9",
   "metadata": {},
   "outputs": [
    {
     "name": "stdout",
     "output_type": "stream",
     "text": [
      "Before deletion {'color': 'yellow', 'points': 5, 'y_position': 25, 'speed': 'medium'}\n",
      "After deletion {'color': 'yellow', 'points': 5, 'speed': 'medium'}\n"
     ]
    }
   ],
   "source": [
    "print(f\"Before deletion {alien_0}\")\n",
    "del alien_0['y_position']\n",
    "print(f\"After deletion {alien_0}\")"
   ]
  },
  {
   "cell_type": "code",
   "execution_count": 16,
   "id": "d4f09688",
   "metadata": {},
   "outputs": [],
   "source": [
    "favourite_languages = {\n",
    "    'jen':'python',\n",
    "    'sarah':'c',\n",
    "    'edward':'rust',\n",
    "    'phil':'python',\n",
    "}"
   ]
  },
  {
   "cell_type": "code",
   "execution_count": 17,
   "id": "18e74685",
   "metadata": {},
   "outputs": [
    {
     "name": "stdout",
     "output_type": "stream",
     "text": [
      "Sarah's favourite language is C.\n"
     ]
    }
   ],
   "source": [
    "language = favourite_languages['sarah'].title()\n",
    "print(f\"Sarah's favourite language is {language}.\")"
   ]
  },
  {
   "cell_type": "code",
   "execution_count": 18,
   "id": "d5209aea",
   "metadata": {},
   "outputs": [
    {
     "data": {
      "text/plain": [
       "'python'"
      ]
     },
     "execution_count": 18,
     "metadata": {},
     "output_type": "execute_result"
    }
   ],
   "source": [
    "favourite_languages['jen']"
   ]
  },
  {
   "cell_type": "code",
   "execution_count": 19,
   "id": "48754cfb",
   "metadata": {},
   "outputs": [],
   "source": [
    "del favourite_languages['jen']"
   ]
  },
  {
   "cell_type": "code",
   "execution_count": 20,
   "id": "71e11ec2",
   "metadata": {},
   "outputs": [
    {
     "name": "stdout",
     "output_type": "stream",
     "text": [
      "{'sarah': 'c', 'edward': 'rust', 'phil': 'python'}\n"
     ]
    }
   ],
   "source": [
    "print(favourite_languages)"
   ]
  },
  {
   "cell_type": "code",
   "execution_count": 22,
   "id": "1f78f294",
   "metadata": {},
   "outputs": [
    {
     "name": "stdout",
     "output_type": "stream",
     "text": [
      "No points assigned\n"
     ]
    }
   ],
   "source": [
    "point = alien_0.get('x_position', 'No points assigned')\n",
    "print(point)"
   ]
  },
  {
   "cell_type": "code",
   "execution_count": 25,
   "id": "eec59b4c",
   "metadata": {},
   "outputs": [
    {
     "name": "stdout",
     "output_type": "stream",
     "text": [
      "None\n"
     ]
    }
   ],
   "source": [
    "point = alien_0.get('x_position')\n",
    "print(point)"
   ]
  },
  {
   "cell_type": "code",
   "execution_count": 1,
   "id": "bcf9e413",
   "metadata": {},
   "outputs": [],
   "source": [
    "users = {\n",
    "    'johndoe':{\n",
    "        'first':'John',\n",
    "        'last':'Doe',\n",
    "        'location':'maldives',\n",
    "    },\n",
    "    'sarahdoe':{\n",
    "        'first':'sarah',\n",
    "        'last':'Doe',\n",
    "        'location':'delhi',\n",
    "    },\n",
    "}"
   ]
  },
  {
   "cell_type": "code",
   "execution_count": 4,
   "id": "c36b9b3f",
   "metadata": {},
   "outputs": [
    {
     "name": "stdout",
     "output_type": "stream",
     "text": [
      "\n",
      " Username:johndoe\n",
      "\t Full name: John Doe\n",
      "\t Location: Maldives\n",
      "\n",
      " Username:sarahdoe\n",
      "\t Full name: Sarah Doe\n",
      "\t Location: Delhi\n"
     ]
    }
   ],
   "source": [
    "for username, user_info in users.items():\n",
    "    print(f\"\\n Username:{username}\")\n",
    "    full_name = f\"{user_info['first']} {user_info['last']}\"\n",
    "    location = user_info['location']\n",
    "    print(f\"\\t Full name: {full_name.title()}\")\n",
    "    print(f\"\\t Location: {location.title()}\")"
   ]
  },
  {
   "cell_type": "code",
   "execution_count": 1,
   "id": "37b95271",
   "metadata": {},
   "outputs": [
    {
     "name": "stdout",
     "output_type": "stream",
     "text": [
      "Tell me something, and I will repeat it back to you:Hello Maverick!\n",
      "Hello Maverick!\n"
     ]
    }
   ],
   "source": [
    "message = input(\"Tell me something, and I will repeat it back to you:\")\n",
    "print(message)"
   ]
  },
  {
   "cell_type": "code",
   "execution_count": 2,
   "id": "9deab595",
   "metadata": {},
   "outputs": [
    {
     "name": "stdout",
     "output_type": "stream",
     "text": [
      "Please enter your nameScooter\n",
      "\n",
      " Hello, Scooter!\n"
     ]
    }
   ],
   "source": [
    "name = input(\"Please enter your name\")\n",
    "print(f\"\\n Hello, {name}!\")"
   ]
  },
  {
   "cell_type": "code",
   "execution_count": 3,
   "id": "43cfef5c",
   "metadata": {},
   "outputs": [
    {
     "name": "stdout",
     "output_type": "stream",
     "text": [
      "If you share your name, we can personalise the messages you see.\n",
      "What is your first name?Veronica\n",
      "\n",
      " Hello, Veronica!\n"
     ]
    }
   ],
   "source": [
    "prompt = \"If you share your name, we can personalise the messages you see.\"\n",
    "prompt+= \"\\nWhat is your first name?\"\n",
    "\n",
    "name = input(prompt)\n",
    "print(f\"\\n Hello, {name}!\")"
   ]
  },
  {
   "cell_type": "code",
   "execution_count": 4,
   "id": "008f9c38",
   "metadata": {},
   "outputs": [
    {
     "name": "stdout",
     "output_type": "stream",
     "text": [
      "How old are you?19\n"
     ]
    },
    {
     "data": {
      "text/plain": [
       "True"
      ]
     },
     "execution_count": 4,
     "metadata": {},
     "output_type": "execute_result"
    }
   ],
   "source": [
    "age = input(\"How old are you?\")\n",
    "age = int(age)\n",
    "age>=18"
   ]
  },
  {
   "cell_type": "code",
   "execution_count": 5,
   "id": "8f4b395b",
   "metadata": {},
   "outputs": [
    {
     "name": "stdout",
     "output_type": "stream",
     "text": [
      "1\n",
      "2\n",
      "3\n",
      "4\n",
      "5\n"
     ]
    }
   ],
   "source": [
    "current_number = 1\n",
    "while current_number<=5:\n",
    "    print(current_number)\n",
    "    current_number+=1"
   ]
  },
  {
   "cell_type": "code",
   "execution_count": 6,
   "id": "4a78375a",
   "metadata": {},
   "outputs": [
    {
     "name": "stdout",
     "output_type": "stream",
     "text": [
      "\n",
      " Tell me something and I will repeat it back to you!\n",
      " Enter 'quit' to end the program.Hello\n",
      "Hello\n",
      "\n",
      " Tell me something and I will repeat it back to you!\n",
      " Enter 'quit' to end the program.quit\n",
      "quit\n"
     ]
    }
   ],
   "source": [
    "prompt=\"\\n Tell me something and I will repeat it back to you!\"\n",
    "prompt+=\"\\n Enter 'quit' to end the program.\"\n",
    "\n",
    "message = \"\"\n",
    "while message!='quit':\n",
    "    message=input(prompt)\n",
    "    print(message)"
   ]
  },
  {
   "cell_type": "code",
   "execution_count": 10,
   "id": "d3215e56",
   "metadata": {},
   "outputs": [
    {
     "name": "stdout",
     "output_type": "stream",
     "text": [
      "\n",
      " Tell me something and I will repeat it back to you!\n",
      " Enter 'quit' to end the program.hy\n",
      "hy\n",
      "\n",
      " Tell me something and I will repeat it back to you!\n",
      " Enter 'quit' to end the program.bye\n",
      "bye\n",
      "\n",
      " Tell me something and I will repeat it back to you!\n",
      " Enter 'quit' to end the program.quit\n"
     ]
    }
   ],
   "source": [
    "prompt=\"\\n Tell me something and I will repeat it back to you!\"\n",
    "prompt+=\"\\n Enter 'quit' to end the program.\"\n",
    "\n",
    "message = \"\"\n",
    "while message!='quit':\n",
    "    message=input(prompt)\n",
    "    if message!='quit':\n",
    "        print(message)"
   ]
  },
  {
   "cell_type": "code",
   "execution_count": 11,
   "id": "09daac01",
   "metadata": {},
   "outputs": [
    {
     "name": "stdout",
     "output_type": "stream",
     "text": [
      "\n",
      " Tell me something and I will repeat it back to you!\n",
      " Enter 'quit' to end the program.go\n",
      "go\n",
      "\n",
      " Tell me something and I will repeat it back to you!\n",
      " Enter 'quit' to end the program.quit\n"
     ]
    }
   ],
   "source": [
    "prompt=\"\\n Tell me something and I will repeat it back to you!\"\n",
    "prompt+=\"\\n Enter 'quit' to end the program.\"\n",
    "\n",
    "active=True\n",
    "while active:\n",
    "    message=input(prompt)\n",
    "    if message=='quit':\n",
    "        active=False\n",
    "    else:\n",
    "        print(message)"
   ]
  },
  {
   "cell_type": "code",
   "execution_count": 12,
   "id": "29966b28",
   "metadata": {},
   "outputs": [
    {
     "name": "stdout",
     "output_type": "stream",
     "text": [
      "\n",
      "Please enter the name of city you would like to visit!\n",
      " Enter 'quit' when you are finished.ho chi minh\n",
      "I'd love to go to Ho Chi Minh!\n",
      "\n",
      "Please enter the name of city you would like to visit!\n",
      " Enter 'quit' when you are finished.quit\n"
     ]
    }
   ],
   "source": [
    "prompt = \"\\nPlease enter the name of city you would like to visit!\"\n",
    "prompt+= \"\\n Enter 'quit' when you are finished.\"\n",
    "\n",
    "while True:\n",
    "    city=input(prompt)\n",
    "    \n",
    "    if city=='quit':\n",
    "        break\n",
    "    else:\n",
    "        print(f\"I'd love to go to {city.title()}!\")"
   ]
  },
  {
   "cell_type": "code",
   "execution_count": 13,
   "id": "9ff17445",
   "metadata": {},
   "outputs": [
    {
     "name": "stdout",
     "output_type": "stream",
     "text": [
      "1\n",
      "3\n",
      "5\n",
      "7\n",
      "9\n"
     ]
    }
   ],
   "source": [
    "current_number=0\n",
    "while current_number<10:\n",
    "    current_number+=1\n",
    "    if current_number%2==0:\n",
    "        continue\n",
    "    print(current_number)"
   ]
  },
  {
   "cell_type": "code",
   "execution_count": 1,
   "id": "ce73a1a7",
   "metadata": {},
   "outputs": [
    {
     "name": "stdout",
     "output_type": "stream",
     "text": [
      "1\n",
      "2\n",
      "3\n",
      "4\n",
      "5\n"
     ]
    }
   ],
   "source": [
    "x=1\n",
    "while x<=5:\n",
    "    print(x)\n",
    "    x+=1"
   ]
  },
  {
   "cell_type": "code",
   "execution_count": 5,
   "id": "22566cdc",
   "metadata": {},
   "outputs": [
    {
     "name": "stdout",
     "output_type": "stream",
     "text": [
      "Verifying user:Candace\n",
      "Verifying user:Brian\n",
      "Verifying user:Alice\n",
      "\n",
      " The following users have been confirmed:\n",
      "Candace\n",
      "Brian\n",
      "Alice\n"
     ]
    }
   ],
   "source": [
    "unconfirmed_users = ['alice', 'brian','candace']\n",
    "confirmed_users = []\n",
    "while unconfirmed_users:\n",
    "    current_user = unconfirmed_users.pop()\n",
    "    print(f\"Verifying user:{current_user.title()}\")\n",
    "    confirmed_users.append(current_user)\n",
    "    \n",
    "#Display all confirmed users.\n",
    "print(\"\\nThe following users have been confirmed:\")\n",
    "for confirmed_user in confirmed_users:\n",
    "    print(confirmed_user.title())"
   ]
  },
  {
   "cell_type": "code",
   "execution_count": 6,
   "id": "2c501ea8",
   "metadata": {},
   "outputs": [
    {
     "name": "stdout",
     "output_type": "stream",
     "text": [
      "['cat', 'dog', 'dog', 'goldfish', 'rabbit', 'cat', 'dog']\n"
     ]
    }
   ],
   "source": [
    "pets=['cat', 'dog','dog','goldfish','rabbit','cat','dog']\n",
    "print(pets)"
   ]
  },
  {
   "cell_type": "code",
   "execution_count": 7,
   "id": "3bd52b42",
   "metadata": {},
   "outputs": [
    {
     "name": "stdout",
     "output_type": "stream",
     "text": [
      "['cat', 'goldfish', 'rabbit', 'cat']\n"
     ]
    }
   ],
   "source": [
    "while 'dog' in pets:\n",
    "    pets.remove('dog')\n",
    "    \n",
    "print(pets)"
   ]
  },
  {
   "cell_type": "code",
   "execution_count": 9,
   "id": "aaecb863",
   "metadata": {},
   "outputs": [
    {
     "name": "stdout",
     "output_type": "stream",
     "text": [
      "\n",
      " What is your name?nemo\n",
      "Which mountain would you like to climb someday?everest\n",
      "Would you like to let another person respond? (yes/no)shrek\n",
      "\n",
      " What is your name?shrek\n",
      "Which mountain would you like to climb someday?kilimanjaro\n",
      "Would you like to let another person respond? (yes/no)no\n",
      "\n",
      "--- Poll results---\n",
      "nemo would like to climb everest.\n",
      "shrek would like to climb kilimanjaro.\n",
      "{'nemo': 'everest', 'shrek': 'kilimanjaro'}\n"
     ]
    }
   ],
   "source": [
    "responses={}\n",
    "polling_active = True\n",
    "\n",
    "while polling_active:\n",
    "    name = input(\"\\n What is your name?\")\n",
    "    response = input(\"Which mountain would you like to climb someday?\")\n",
    "    \n",
    "    responses[name] = response\n",
    "    \n",
    "    repeat = input(\"Would you like to let another person respond? (yes/no)\")\n",
    "    if repeat=='no':\n",
    "        polling_active=False\n",
    "\n",
    "#Polling is complete.Show the results\n",
    "print(\"\\n--- Poll results---\")\n",
    "for name, response in responses.items():\n",
    "    print(f\"{name} would like to climb {response}.\")\n",
    "\n",
    "print(responses)"
   ]
  },
  {
   "cell_type": "code",
   "execution_count": 2,
   "id": "e2a7095e",
   "metadata": {},
   "outputs": [
    {
     "name": "stdout",
     "output_type": "stream",
     "text": [
      "Hello!\n"
     ]
    }
   ],
   "source": [
    "def greet_user():\n",
    "    \"\"\" Display a simple greeting\"\"\"\n",
    "    print(\"Hello!\")\n",
    "    \n",
    "greet_user()"
   ]
  },
  {
   "cell_type": "code",
   "execution_count": 4,
   "id": "f6ee3223",
   "metadata": {},
   "outputs": [
    {
     "name": "stdout",
     "output_type": "stream",
     "text": [
      "Hello!\n"
     ]
    }
   ],
   "source": [
    "greet_user() #calling greet_user() function to do its job."
   ]
  },
  {
   "cell_type": "code",
   "execution_count": 5,
   "id": "343d9c91",
   "metadata": {},
   "outputs": [
    {
     "name": "stdout",
     "output_type": "stream",
     "text": [
      "Hello, Sarah!\n"
     ]
    }
   ],
   "source": [
    "def greet_user(username):\n",
    "    \"\"\"Display greeting to a user\"\"\"\n",
    "    print(f\"Hello, {username.title()}!\")\n",
    "    \n",
    "greet_user('Sarah')"
   ]
  },
  {
   "cell_type": "code",
   "execution_count": 10,
   "id": "5792ae6a",
   "metadata": {},
   "outputs": [],
   "source": [
    "def describe_pet(animal_type, pet_name):\n",
    "    \"\"\"Display information about a pet.\"\"\"\n",
    "    print(f\"\\nI have a {animal_type}.\")\n",
    "    print(f\"My {animal_type}'s name is {pet_name.title()}.\")"
   ]
  },
  {
   "cell_type": "code",
   "execution_count": 11,
   "id": "166fe74f",
   "metadata": {},
   "outputs": [
    {
     "name": "stdout",
     "output_type": "stream",
     "text": [
      "\n",
      "I have a hamster.\n",
      "My hamster's name is Harry.\n"
     ]
    }
   ],
   "source": [
    "describe_pet('hamster','harry')"
   ]
  },
  {
   "cell_type": "code",
   "execution_count": 12,
   "id": "c55dddeb",
   "metadata": {},
   "outputs": [
    {
     "name": "stdout",
     "output_type": "stream",
     "text": [
      "\n",
      "I have a dog.\n",
      "My dog's name is Tommy.\n"
     ]
    }
   ],
   "source": [
    "describe_pet('dog','tommy')"
   ]
  },
  {
   "cell_type": "code",
   "execution_count": 14,
   "id": "49c0b31d",
   "metadata": {},
   "outputs": [
    {
     "name": "stdout",
     "output_type": "stream",
     "text": [
      "Jimi Hendrix\n"
     ]
    }
   ],
   "source": [
    "def get_formmatted_name(first_name, last_Name):\n",
    "    \"\"\"Return a full name, neatly formatted.\"\"\"\n",
    "    full_name = f\"{first_name} {last_Name}\"\n",
    "    return full_name.title()\n",
    "\n",
    "musician = get_formmatted_name('jimi','hendrix')\n",
    "print(musician)"
   ]
  },
  {
   "cell_type": "code",
   "execution_count": 15,
   "id": "c1544970",
   "metadata": {},
   "outputs": [
    {
     "name": "stdout",
     "output_type": "stream",
     "text": [
      "Printing model: dodecahedron\n",
      "Printing model: robot pendant\n",
      "Printing model: phone case\n",
      "\n",
      "The following models have been printed:\n",
      "dodecahedron\n",
      "robot pendant\n",
      "phone case\n"
     ]
    }
   ],
   "source": [
    "#start with some designs that need to be printed.\n",
    "unprinted_designs = ['phone case','robot pendant','dodecahedron']\n",
    "completed_models = []\n",
    "\n",
    "while unprinted_designs:\n",
    "    current_design = unprinted_designs.pop()\n",
    "    print(f\"Printing model: {current_design}\")\n",
    "    completed_models.append(current_design)\n",
    "    \n",
    "print(\"\\nThe following models have been printed:\")\n",
    "for completed_model in completed_models:\n",
    "    print(completed_model)"
   ]
  },
  {
   "cell_type": "code",
   "execution_count": 19,
   "id": "55f25bce",
   "metadata": {},
   "outputs": [
    {
     "name": "stdout",
     "output_type": "stream",
     "text": [
      "Printing model: dodecahedron\n",
      "Printing model: robot pendant\n",
      "Printing model: phone case\n",
      "\n",
      "The following models have been printed:\n",
      "dodecahedron\n",
      "robot pendant\n",
      "phone case\n"
     ]
    }
   ],
   "source": [
    "def print_models(unprinted_designs,completed_models):\n",
    "    while unprinted_designs:\n",
    "        current_design = unprinted_designs.pop()\n",
    "        print(f\"Printing model: {current_design}\")\n",
    "        completed_models.append(current_design)\n",
    "    \n",
    "def show_completed_models(completed_models):\n",
    "    print(\"\\nThe following models have been printed:\")\n",
    "    for completed_model in completed_models:\n",
    "        print(completed_model)\n",
    "        \n",
    "unprinted_designs = ['phone case','robot pendant','dodecahedron']\n",
    "completed_models = []\n",
    "\n",
    "print_models(unprinted_designs,completed_models)\n",
    "show_completed_models(completed_models)"
   ]
  },
  {
   "cell_type": "code",
   "execution_count": 20,
   "id": "8e697d10",
   "metadata": {},
   "outputs": [
    {
     "name": "stdout",
     "output_type": "stream",
     "text": [
      "('pepperoni',)\n",
      "('paneer', 'jalepeno', 'tomato', 'olives')\n"
     ]
    }
   ],
   "source": [
    "def make_pizza(*toppings):\n",
    "    \"\"\"Print the toppings requested.\"\"\"\n",
    "    print(toppings)\n",
    "\n",
    "make_pizza('pepperoni')\n",
    "make_pizza('paneer','jalepeno','tomato','olives')"
   ]
  },
  {
   "cell_type": "code",
   "execution_count": 21,
   "id": "95a5fbd4",
   "metadata": {},
   "outputs": [],
   "source": [
    "def make_pizza(*toppings):\n",
    "    \"\"\"Print the toppings requested.\"\"\"\n",
    "    print(\"\\nMaking an awesome pizza for you with the following toppings!\")\n",
    "    for topping in toppings:\n",
    "        print(f\"-{topping}\")"
   ]
  },
  {
   "cell_type": "code",
   "execution_count": 22,
   "id": "8877b02e",
   "metadata": {},
   "outputs": [
    {
     "name": "stdout",
     "output_type": "stream",
     "text": [
      "\n",
      "Making an awesome pizza for you with the following toppings!\n",
      "-pepperoni\n",
      "\n",
      "Making an awesome pizza for you with the following toppings!\n",
      "-paneer\n",
      "-jalepeno\n",
      "-tomato\n",
      "-olives\n"
     ]
    }
   ],
   "source": [
    "make_pizza('pepperoni')\n",
    "make_pizza('paneer','jalepeno','tomato','olives')"
   ]
  },
  {
   "cell_type": "code",
   "execution_count": 26,
   "id": "40ed4a4e",
   "metadata": {},
   "outputs": [],
   "source": [
    "def make_pizza(size, *toppings):\n",
    "    \"\"\"Print the toppings requested.\"\"\"\n",
    "    print(f\"\\nMaking an awesome {size}-inch pizza for you with the following toppings!\")\n",
    "    for topping in toppings:\n",
    "        print(f\"-{topping}\")"
   ]
  },
  {
   "cell_type": "code",
   "execution_count": 27,
   "id": "5c2df6bc",
   "metadata": {},
   "outputs": [
    {
     "name": "stdout",
     "output_type": "stream",
     "text": [
      "\n",
      "Making an awesome 8-inch pizza for you with the following toppings!\n",
      "-pepperoni\n",
      "\n",
      "Making an awesome 12-inch pizza for you with the following toppings!\n",
      "-paneer\n",
      "-jalepeno\n",
      "-tomato\n",
      "-olives\n"
     ]
    }
   ],
   "source": [
    "make_pizza(8, 'pepperoni')\n",
    "make_pizza(12, 'paneer','jalepeno','tomato','olives')"
   ]
  },
  {
   "cell_type": "code",
   "execution_count": 1,
   "id": "a519c6ab",
   "metadata": {},
   "outputs": [],
   "source": [
    "class Dog:\n",
    "    \"\"\"A simple attempt model a dog.\"\"\"\n",
    "    def __init__(self, name, age):\n",
    "        \"\"\"Initialise name and age attributes.\"\"\"\n",
    "        self.name = name\n",
    "        self.age = age\n",
    "        \n",
    "    def sit(self):\n",
    "        \"\"\"Simulate a dog sitting in response to a command.\"\"\"\n",
    "        print(f\"{self.name} is now sitting.\")\n",
    "    \n",
    "    def roll_over(self):\n",
    "        \"\"\"Simulate rolling over in response to a command.\"\"\"\n",
    "        print(f\"{self.name} rolled over!\")"
   ]
  },
  {
   "cell_type": "code",
   "execution_count": 2,
   "id": "600bd348",
   "metadata": {},
   "outputs": [
    {
     "name": "stdout",
     "output_type": "stream",
     "text": [
      "My dog's name is Willie.\n",
      "My dog is 6 years old.\n"
     ]
    }
   ],
   "source": [
    "my_dog = Dog('Willie',6)\n",
    "print(f\"My dog's name is {my_dog.name}.\")\n",
    "print(f\"My dog is {my_dog.age} years old.\")"
   ]
  },
  {
   "cell_type": "code",
   "execution_count": 3,
   "id": "2b5cc814",
   "metadata": {},
   "outputs": [
    {
     "name": "stdout",
     "output_type": "stream",
     "text": [
      "Willie is now sitting.\n"
     ]
    }
   ],
   "source": [
    "my_dog.sit()"
   ]
  },
  {
   "cell_type": "code",
   "execution_count": 4,
   "id": "c2364e3c",
   "metadata": {},
   "outputs": [
    {
     "name": "stdout",
     "output_type": "stream",
     "text": [
      "Willie rolled over!\n"
     ]
    }
   ],
   "source": [
    "my_dog.roll_over()"
   ]
  },
  {
   "cell_type": "code",
   "execution_count": null,
   "id": "80a31263",
   "metadata": {},
   "outputs": [],
   "source": []
  }
 ],
 "metadata": {
  "kernelspec": {
   "display_name": "Python 3 (ipykernel)",
   "language": "python",
   "name": "python3"
  },
  "language_info": {
   "codemirror_mode": {
    "name": "ipython",
    "version": 3
   },
   "file_extension": ".py",
   "mimetype": "text/x-python",
   "name": "python",
   "nbconvert_exporter": "python",
   "pygments_lexer": "ipython3",
   "version": "3.11.7"
  },
  "toc": {
   "base_numbering": 1,
   "nav_menu": {},
   "number_sections": true,
   "sideBar": true,
   "skip_h1_title": false,
   "title_cell": "Table of Contents",
   "title_sidebar": "Contents",
   "toc_cell": false,
   "toc_position": {},
   "toc_section_display": true,
   "toc_window_display": false
  }
 },
 "nbformat": 4,
 "nbformat_minor": 5
}
